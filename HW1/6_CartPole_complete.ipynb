{
  "cells": [
    {
      "cell_type": "markdown",
      "metadata": {
        "id": "1ekcge5vHPpR"
      },
      "source": [
        "# Installations and Imports"
      ]
    },
    {
      "cell_type": "code",
      "execution_count": 2,
      "metadata": {
        "colab": {
          "base_uri": "https://localhost:8080/"
        },
        "id": "iJ6K6gUyFP8v",
        "outputId": "db0f155e-80b2-49be-ee15-bee87debf788"
      },
      "outputs": [
        {
          "name": "stdout",
          "output_type": "stream",
          "text": [
            "Hit:1 https://cloud.r-project.org/bin/linux/ubuntu focal-cran40/ InRelease\n",
            "Hit:2 http://ppa.launchpad.net/c2d4u.team/c2d4u4.0+/ubuntu focal InRelease\n",
            "Ign:3 https://developer.download.nvidia.com/compute/machine-learning/repos/ubuntu2004/x86_64  InRelease\n",
            "Hit:4 https://developer.download.nvidia.com/compute/cuda/repos/ubuntu2004/x86_64  InRelease\n",
            "Hit:5 https://developer.download.nvidia.com/compute/machine-learning/repos/ubuntu2004/x86_64  Release\n",
            "Hit:6 http://security.ubuntu.com/ubuntu focal-security InRelease\n",
            "Hit:8 http://archive.ubuntu.com/ubuntu focal InRelease\n",
            "Hit:9 http://ppa.launchpad.net/cran/libgit2/ubuntu focal InRelease\n",
            "Hit:10 http://archive.ubuntu.com/ubuntu focal-updates InRelease\n",
            "Hit:11 http://archive.ubuntu.com/ubuntu focal-backports InRelease\n",
            "Hit:12 http://ppa.launchpad.net/deadsnakes/ppa/ubuntu focal InRelease\n",
            "Hit:13 http://ppa.launchpad.net/graphics-drivers/ppa/ubuntu focal InRelease\n",
            "Hit:14 http://ppa.launchpad.net/ubuntugis/ppa/ubuntu focal InRelease\n",
            "Reading package lists... Done\n",
            "Looking in indexes: https://pypi.org/simple, https://us-python.pkg.dev/colab-wheels/public/simple/\n",
            "Requirement already satisfied: imageio==2.4.0 in /usr/local/lib/python3.9/dist-packages (2.4.0)\n",
            "Requirement already satisfied: pillow in /usr/local/lib/python3.9/dist-packages (from imageio==2.4.0) (8.4.0)\n",
            "Requirement already satisfied: numpy in /usr/local/lib/python3.9/dist-packages (from imageio==2.4.0) (1.22.4)\n",
            "Reading package lists... Done\n",
            "Building dependency tree       \n",
            "Reading state information... Done\n",
            "ffmpeg is already the newest version (7:4.2.7-0ubuntu0.1).\n",
            "xvfb is already the newest version (2:1.20.13-1ubuntu1~20.04.6).\n",
            "0 upgraded, 0 newly installed, 0 to remove and 27 not upgraded.\n",
            "Looking in indexes: https://pypi.org/simple, https://us-python.pkg.dev/colab-wheels/public/simple/\n",
            "Requirement already satisfied: gymnasium[classic_control] in /usr/local/lib/python3.9/dist-packages (0.27.1)\n",
            "Requirement already satisfied: gymnasium-notices>=0.0.1 in /usr/local/lib/python3.9/dist-packages (from gymnasium[classic_control]) (0.0.1)\n",
            "Requirement already satisfied: jax-jumpy>=0.2.0 in /usr/local/lib/python3.9/dist-packages (from gymnasium[classic_control]) (0.2.0)\n",
            "Requirement already satisfied: importlib-metadata>=4.8.0 in /usr/local/lib/python3.9/dist-packages (from gymnasium[classic_control]) (6.0.0)\n",
            "Requirement already satisfied: typing-extensions>=4.3.0 in /usr/local/lib/python3.9/dist-packages (from gymnasium[classic_control]) (4.5.0)\n",
            "Requirement already satisfied: numpy>=1.21.0 in /usr/local/lib/python3.9/dist-packages (from gymnasium[classic_control]) (1.22.4)\n",
            "Requirement already satisfied: cloudpickle>=1.2.0 in /usr/local/lib/python3.9/dist-packages (from gymnasium[classic_control]) (2.2.1)\n",
            "Requirement already satisfied: pygame==2.1.3.dev8 in /usr/local/lib/python3.9/dist-packages (from gymnasium[classic_control]) (2.1.3.dev8)\n",
            "Requirement already satisfied: zipp>=0.5 in /usr/local/lib/python3.9/dist-packages (from importlib-metadata>=4.8.0->gymnasium[classic_control]) (3.15.0)\n"
          ]
        }
      ],
      "source": [
        "! sudo apt-get update\n",
        "! pip install 'imageio==2.4.0'\n",
        "! sudo apt-get install -y xvfb ffmpeg\n",
        "! pip3 install gymnasium[classic_control]\n"
      ]
    },
    {
      "cell_type": "code",
      "execution_count": 3,
      "metadata": {
        "colab": {
          "base_uri": "https://localhost:8080/"
        },
        "id": "lzUJnJrQEN1r",
        "outputId": "6ab0a630-75b5-4810-f284-806a272e5a53"
      },
      "outputs": [
        {
          "data": {
            "text/plain": [
              "device(type='cuda')"
            ]
          },
          "execution_count": 3,
          "metadata": {},
          "output_type": "execute_result"
        }
      ],
      "source": [
        "import math\n",
        "import base64\n",
        "import random\n",
        "import imageio\n",
        "import IPython\n",
        "import matplotlib\n",
        "import gymnasium as gym\n",
        "from itertools import count\n",
        "import matplotlib.pyplot as plt\n",
        "from collections import namedtuple, deque\n",
        "\n",
        "import torch\n",
        "import torch.nn as nn\n",
        "import torch.optim as optim\n",
        "import torch.nn.functional as F\n",
        "\n",
        "DEVICE = torch.device(\"cuda\" if torch.cuda.is_available() else \"cpu\")\n",
        "DEVICE"
      ]
    },
    {
      "cell_type": "markdown",
      "metadata": {
        "id": "csY30Op-HVgu"
      },
      "source": [
        "# Utility functions for rendering evironment"
      ]
    },
    {
      "cell_type": "code",
      "execution_count": 4,
      "metadata": {
        "id": "B_g_w4-VFqXz"
      },
      "outputs": [],
      "source": [
        "def embed_mp4(filename):\n",
        "  \n",
        "    video = open(filename,'rb').read()\n",
        "    b64 = base64.b64encode(video)\n",
        "    tag = '''\n",
        "    <video width=\"640\" height=\"480\" controls>\n",
        "    <source src=\"data:video/mp4;base64,{0}\" type=\"video/mp4\">\n",
        "    Your browser does not support the video tag.\n",
        "    </video>'''.format(b64.decode())\n",
        "    \n",
        "    return IPython.display.HTML(tag)"
      ]
    },
    {
      "cell_type": "code",
      "execution_count": 5,
      "metadata": {
        "id": "IH96rj7THfsS"
      },
      "outputs": [],
      "source": [
        "def create_policy_eval_video(env, policy, filename, num_episodes=1, fps=30):\n",
        "  \n",
        "    filename = filename + \".mp4\"\n",
        "    with imageio.get_writer(filename, fps=fps) as video:\n",
        "        for _ in range(num_episodes):\n",
        "            state, info = env.reset()\n",
        "            video.append_data(env.render())\n",
        "            while True:\n",
        "                state = torch.from_numpy(state).unsqueeze(0).to(DEVICE)\n",
        "                action = policy(state)\n",
        "                state, reward, terminated, truncated, _ = env.step(action.item())\n",
        "                video.append_data(env.render())\n",
        "                if terminated:\n",
        "                    break\n",
        "    return embed_mp4(filename)"
      ]
    },
    {
      "cell_type": "markdown",
      "metadata": {
        "id": "ozFEZ_bqH71W"
      },
      "source": [
        "# Replay Memory and Q-Network"
      ]
    },
    {
      "cell_type": "code",
      "execution_count": 6,
      "metadata": {
        "id": "84EJUO1JH7h4"
      },
      "outputs": [],
      "source": [
        "class ReplayMemory(object):\n",
        "\n",
        "    def __init__(self, capacity):\n",
        "        self.memory = deque([], maxlen=capacity)\n",
        "\n",
        "    def push(self, transition):\n",
        "        self.memory.append(transition)\n",
        "\n",
        "    def sample(self, batch_size):\n",
        "        return random.sample(self.memory, batch_size)\n",
        "\n",
        "    def __len__(self):\n",
        "        return len(self.memory)"
      ]
    },
    {
      "cell_type": "code",
      "execution_count": 119,
      "metadata": {
        "id": "WD_Av2C7IIZ4"
      },
      "outputs": [],
      "source": [
        "# Complete the Q-Network below. \n",
        "# The Q-Network takes a state as input and the output is a vector so that each element is the q-value for an action.\n",
        "\n",
        "class DQN(nn.Module):\n",
        "\n",
        "    def __init__(self, n_observations, n_actions):\n",
        "         # ==================================== Your Code (Begin) ====================================\n",
        "        super(DQN, self).__init__()\n",
        "        self.model = nn.Sequential(\n",
        "          nn.Linear(n_observations, 128), \n",
        "          nn.ReLU(),\n",
        "          nn.Linear(128, 128), \n",
        "          nn.ReLU(),\n",
        "          nn.Linear(128, n_actions)\n",
        "        )\n",
        "        # ==================================== Your Code (End) ====================================\n",
        "\n",
        "\n",
        "    def forward(self, x):\n",
        "        # ==================================== Your Code (Begin) ====================================\n",
        "        return self.model(x)\n",
        "        # ==================================== Your Code (End) ===================================="
      ]
    },
    {
      "cell_type": "markdown",
      "metadata": {
        "id": "f_ZW4F6SQeMZ"
      },
      "source": [
        "# Policies"
      ]
    },
    {
      "cell_type": "markdown",
      "metadata": {
        "id": "XJ6SfSblT_6f"
      },
      "source": [
        "Now we define 2 policies. We use greedy policy for evaluation and e-greedy during training."
      ]
    },
    {
      "cell_type": "code",
      "execution_count": 8,
      "metadata": {
        "id": "fokLsyg5Qc41"
      },
      "outputs": [],
      "source": [
        "# This function takes in a state and returns the best action according to your q-network.\n",
        "# Don't forget \"torch.no_grad()\". We don't want gradient flowing through our network. \n",
        "\n",
        "# state shape: (1, state_size) -> output shape: (1, 1)  \n",
        "def greedy_policy(qnet, state):\n",
        "    # ==================================== Your Code (Begin) ====================================\n",
        "    with torch.no_grad():\n",
        "        return qnet(state).max(1)[1].view(1, 1)\n",
        "\n",
        "    # ==================================== Your Code (End) ===================================="
      ]
    },
    {
      "cell_type": "code",
      "execution_count": 9,
      "metadata": {
        "id": "_iE-12xgRc2y"
      },
      "outputs": [],
      "source": [
        "# state shape: (1, state_size) -> output shape: (1, 1)\n",
        "# Don't forget \"torch.no_grad()\". We don't want gradient flowing through our network.\n",
        "import random\n",
        "def e_greedy_policy(qnet, state, current_timestep):\n",
        "    # ==================================== Your Code (Begin) ====================================\n",
        "\n",
        "    # With probability \"eps_threshold\" choose a random action \n",
        "    # and with probability 1-\"eps_threshold\" choose the best action according to your Q-Network.\n",
        "    eps_threshold = EPS_END + (EPS_START - EPS_END) * math.exp(-1. * current_timestep / EPS_DECAY)\n",
        "    if random.uniform(0, 1) < eps_threshold:\n",
        "        return torch.tensor([[env.action_space.sample()]]).view(1,1)\n",
        "    else:\n",
        "        return greedy_policy(qnet, state)\n",
        "\n",
        "    \n",
        "    # ==================================== Your Code (End) ===================================="
      ]
    },
    {
      "cell_type": "code",
      "execution_count": 10,
      "metadata": {
        "colab": {
          "base_uri": "https://localhost:8080/"
        },
        "id": "udMqr41hpKc4",
        "outputId": "10ffe6cf-71f1-4fa4-b4a1-323b0a2136ce"
      },
      "outputs": [
        {
          "data": {
            "text/plain": [
              "4"
            ]
          },
          "execution_count": 10,
          "metadata": {},
          "output_type": "execute_result"
        }
      ],
      "source": [
        "env = gym.make(\"CartPole-v1\", render_mode='rgb_array')\n",
        "state, info = env.reset()\n",
        "n_observations = len(state)\n",
        "n_observations"
      ]
    },
    {
      "cell_type": "markdown",
      "metadata": {
        "id": "0PvG1MpOK9mX"
      },
      "source": [
        "# Initial setup"
      ]
    },
    {
      "cell_type": "code",
      "execution_count": 216,
      "metadata": {
        "colab": {
          "base_uri": "https://localhost:8080/",
          "height": 539
        },
        "id": "5Sc1a-6ZLAE1",
        "outputId": "b33a1146-3196-4e3d-d178-5a855fedbd1e"
      },
      "outputs": [
        {
          "name": "stderr",
          "output_type": "stream",
          "text": [
            "WARNING:root:IMAGEIO FFMPEG_WRITER WARNING: input image is not divisible by macro_block_size=16, resizing from (400, 600) to (400, 608) to ensure video compatibility with most codecs and players. To prevent resizing, make your input image divisible by the macro_block_size or set the macro_block_size to None (risking incompatibility). You may also see a FFMPEG warning concerning speedloss due to data not being aligned.\n"
          ]
        },
        {
          "data": {
            "text/html": [
              "\n",
              "    <video width=\"640\" height=\"480\" controls>\n",
              "    <source src=\"data:video/mp4;base64,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\" type=\"video/mp4\">\n",
              "    Your browser does not support the video tag.\n",
              "    </video>"
            ],
            "text/plain": [
              "<IPython.core.display.HTML object>"
            ]
          },
          "execution_count": 216,
          "metadata": {},
          "output_type": "execute_result"
        }
      ],
      "source": [
        "BATCH_SIZE = 64\n",
        "GAMMA = 0.99\n",
        "EPS_START = 0.95\n",
        "EPS_END = 0.05\n",
        "EPS_DECAY = 700\n",
        "TAU = 0.005\n",
        "LR = 1e-4\n",
        "\n",
        "device = torch.device(\"cuda\" if torch.cuda.is_available() else \"cpu\")\n",
        "env = gym.make(\"CartPole-v1\", render_mode='rgb_array')\n",
        "n_actions = env.action_space.n\n",
        "state, info = env.reset()\n",
        "n_observations = len(state)\n",
        "q_network = DQN(n_observations, n_actions).to(device)\n",
        "target_network = DQN(n_observations, n_actions).to(device)\n",
        "optimizer = optim.AdamW(q_network.parameters(), lr=LR)\n",
        "memory = ReplayMemory(10000)\n",
        "criterion = nn.SmoothL1Loss()\n",
        "\n",
        "create_policy_eval_video(env, lambda s: greedy_policy(q_network, s), \"random_agent\")"
      ]
    },
    {
      "cell_type": "markdown",
      "metadata": {
        "id": "yWq08ZENXx6h"
      },
      "source": [
        "# Training"
      ]
    },
    {
      "cell_type": "code",
      "execution_count": 12,
      "metadata": {
        "colab": {
          "base_uri": "https://localhost:8080/"
        },
        "id": "1-sQGnSJPkXo",
        "outputId": "45b5c69b-ca06-4078-8d49-822d194c9099"
      },
      "outputs": [
        {
          "data": {
            "text/plain": [
              "device(type='cuda')"
            ]
          },
          "execution_count": 12,
          "metadata": {},
          "output_type": "execute_result"
        }
      ],
      "source": [
        "DEVICE"
      ]
    },
    {
      "cell_type": "code",
      "execution_count": 198,
      "metadata": {
        "colab": {
          "base_uri": "https://localhost:8080/",
          "height": 319
        },
        "id": "USGbCrKbFusn",
        "outputId": "d21e8327-f278-4e3a-b541-96d45fd2c50b"
      },
      "outputs": [
        {
          "name": "stderr",
          "output_type": "stream",
          "text": [
            "100%|██████████| 600/600 [02:25<00:00,  4.13it/s]"
          ]
        },
        {
          "name": "stdout",
          "output_type": "stream",
          "text": [
            "Complete\n"
          ]
        },
        {
          "name": "stderr",
          "output_type": "stream",
          "text": [
            "\n"
          ]
        },
        {
          "data": {
            "text/plain": [
              "[<matplotlib.lines.Line2D at 0x7f35597cfbe0>]"
            ]
          },
          "execution_count": 198,
          "metadata": {},
          "output_type": "execute_result"
        },
        {
          "data": {
            "image/png": "[encoded data removed]",
            "text/plain": [
              "<Figure size 432x288 with 1 Axes>"
            ]
          },
          "metadata": {
            "needs_background": "light"
          },
          "output_type": "display_data"
        }
      ],
      "source": [
        "from os import stat_result\n",
        "from tqdm import tqdm\n",
        "import numpy as np\n",
        "\n",
        "num_episodes = 600\n",
        "episode_returns = []\n",
        "episode_durations = []\n",
        "all_losses = []\n",
        "BATCH_SIZE = 64\n",
        "device = torch.device(\"cuda\" if torch.cuda.is_available() else \"cpu\")\n",
        "env = gym.make(\"CartPole-v1\", render_mode='rgb_array')\n",
        "n_actions = env.action_space.n\n",
        "state, info = env.reset()\n",
        "n_observations = len(state)\n",
        "q_network = DQN(n_observations, n_actions).to(device)\n",
        "target_network = DQN(n_observations, n_actions).to(device)\n",
        "\n",
        "optimizer = optim.AdamW(q_network.parameters(), lr=LR, amsgrad=True)\n",
        "memory = ReplayMemory(10_000)\n",
        "criterion = nn.SmoothL1Loss()\n",
        "\n",
        "\n",
        "for i_episode in tqdm(range(num_episodes)):\n",
        "\n",
        "    # ==================================== Your Code (Begin) ====================================\n",
        "    # 1. Start a new episode\n",
        "    # 2. Run the environment for 1 step using e-greedy policy\n",
        "    # 3. Add the (state, action, next_state, reward) to replay memory\n",
        "    # 4. Optimize your q_network for 1 iteration\n",
        "    #       4.1 Sample one batch from replay memory\n",
        "    #       4.2 Compute predicted state-action values using q_network\n",
        "    #       4.3 Compute expected state-action values using target_network (Don't forget \"no_grad\" because we don't want gradient through target_network)\n",
        "    #       4.4 Compute loss function and optimize q_network for 1 step\n",
        "    # 5. Soft update the weights of target_network\n",
        "    #       θ′ ← τ θ + (1 −τ )θ′\n",
        "    #       θ   is q_network weights\n",
        "    #       θ′  is target_network weights            \n",
        "    # 6. Keep track of the total reward for each episode to plot later\n",
        "    # ==================================== Your Code (End) ==================================== \n",
        "    current_timestep = 0\n",
        "    done = False \n",
        "    total_reward = 0 \n",
        "    total_loss = 0\n",
        "    state, _ = env.reset()\n",
        "    state = torch.tensor(state, dtype=torch.float32, device=device).unsqueeze(0)\n",
        "    while not done:\n",
        "        action = e_greedy_policy(q_network,state, i_episode)\n",
        "        action = torch.tensor([[action]], device=device)\n",
        "        next_state, reward, done, _, _ = env.step(action.item())\n",
        "       \n",
        "        total_reward += reward\n",
        "        next_state = torch.tensor(next_state,  dtype=torch.float32, device=DEVICE).unsqueeze(0)\n",
        "        reward = torch.tensor([reward], device=DEVICE)\n",
        "        if done:\n",
        "            episode_durations.append(current_timestep + 1)\n",
        "            episode_returns.append(total_reward)\n",
        "            all_losses.append(total_loss/BATCH_SIZE)\n",
        "        \n",
        "        memory.push((state, action.to(DEVICE), next_state, reward, int(done)))\n",
        "        current_timestep += 1\n",
        "        state = next_state\n",
        "        # # optimization\n",
        "        if len(memory) < BATCH_SIZE:\n",
        "            continue\n",
        "        all_states, all_actions, all_next_states, all_rewards, all_done = zip(*memory.sample(BATCH_SIZE))\n",
        "        all_states = torch.cat(all_states)\n",
        "        all_next_states = torch.cat(all_next_states)\n",
        "        all_rewards = torch.cat(all_rewards)\n",
        "        all_actions = torch.cat(all_actions)\n",
        "        all_done  = torch.tensor(all_done).to(DEVICE)\n",
        "        q_net_out = q_network(all_states).gather(1, all_actions)\n",
        "\n",
        "        with torch.no_grad():\n",
        "            target_net_out = target_network(all_next_states).max(1)[0]\n",
        "            target_net_out =  (1-all_done)*target_net_out\n",
        "        target_net_out = (target_net_out * GAMMA) + all_rewards\n",
        "        loss = criterion(q_net_out, target_net_out.unsqueeze(1))\n",
        "        optimizer.zero_grad()\n",
        "        loss.backward()\n",
        "        total_loss += loss.item()\n",
        "        optimizer.step()\n",
        "        # end optimization \n",
        "        temp_weights_dict = target_network.state_dict()\n",
        "        if i_episode % 10 == 0 :\n",
        "            for k, v in q_network.state_dict().items():\n",
        "                temp_weights_dict[k] = TAU * v + (1-TAU)*temp_weights_dict[k]\n",
        "            target_network.load_state_dict(temp_weights_dict)\n",
        "     \n",
        "\n",
        "print('Complete')\n",
        "plt.plot(range(1, num_episodes+1), episode_durations)"
      ]
    },
    {
      "cell_type": "code",
      "execution_count": 196,
      "metadata": {
        "colab": {
          "base_uri": "https://localhost:8080/",
          "height": 539
        },
        "id": "F7sZjwcs2R6V",
        "outputId": "87781f52-2350-42ce-b373-8a501d1e8f4b"
      },
      "outputs": [
        {
          "name": "stderr",
          "output_type": "stream",
          "text": [
            "WARNING:root:IMAGEIO FFMPEG_WRITER WARNING: input image is not divisible by macro_block_size=16, resizing from (400, 600) to (400, 608) to ensure video compatibility with most codecs and players. To prevent resizing, make your input image divisible by the macro_block_size or set the macro_block_size to None (risking incompatibility). You may also see a FFMPEG warning concerning speedloss due to data not being aligned.\n"
          ]
        },
        {
          "data": {
            "text/html": [
              "\n",
              "    <video width=\"640\" height=\"480\" controls>\n",
              "    <source src=\"data:video/mp4;base64,AAAAIGZ0eXBpc29tAAACAGlzb21pc28yYXZjMW1wNDEAAAAIZnJlZQAAbWZtZGF0AAACrgYF//+q3EXpvebZSLeWLNgg2SPu73gyNjQgLSBjb3JlIDE1NSByMjkxNyAwYTg0ZDk4IC0gSC4yNjQvTVBFRy00IEFWQyBjb2RlYyAtIENvcHlsZWZ0IDIwMDMtMjAxOCAtIGh0dHA6Ly93d3cudmlkZW9sYW4ub3JnL3gyNjQuaHRtbCAtIG9wdGlvbnM6IGNhYmFjPTEgcmVmPTMgZGVibG9jaz0xOjA6MCBhbmFseXNlPTB4MzoweDExMyBtZT1oZXggc3VibWU9NyBwc3k9MSBwc3lfcmQ9MS4wMDowLjAwIG1peGVkX3JlZj0xIG1lX3JhbmdlPTE2IGNocm9tYV9tZT0xIHRyZWxsaXM9MSA4eDhkY3Q9MSBjcW09MCBkZWFkem9uZT0yMSwxMSBmYXN0X3Bza2lwPTEgY2hyb21hX3FwX29mZnNldD0tMiB0aHJlYWRzPTMgbG9va2FoZWFkX3RocmVhZHM9MSBzbGljZWRfdGhyZWFkcz0wIG5yPTAgZGVjaW1hdGU9MSBpbnRlcmxhY2VkPTAgYmx1cmF5X2NvbXBhdD0wIGNvbnN0cmFpbmVkX2ludHJhPTAgYmZyYW1lcz0zIGJfcHlyYW1pZD0yIGJfYWRhcHQ9MSBiX2JpYXM9MCBkaXJlY3Q9MSB3ZWlnaHRiPTEgb3Blbl9nb3A9MCB3ZWlnaHRwPTIga2V5aW50PTI1MCBrZXlpbnRfbWluPTI1IHNjZW5lY3V0PTQwIGludHJhX3JlZnJlc2g9MCByY19sb29rYWhlYWQ9NDAgcmM9Y3JmIG1idHJlZT0xIGNyZj0yNS4wIHFjb21wPTAuNjAgcXBtaW49MCBxcG1heD02OSBxcHN0ZXA9NCBpcF9yYXRpbz0xLjQwIGFxPTE6MS4wMACAAAACNWWIhAA3//72rvzLK0cLlS4dWXuzUfLoSXL9iDB9aAAAAwAAAwAAJuKiZ0WFMeJsgAAALmAIWElDyDzETFWKgSxDPavgnEaBKASAoOcrB2WghoO649Z/CvzywilrL5+yMsexQL1S2Ui06uCjvXIW3+X/wvURIqpxjPSmC6WbVmxCP2BUqWvW5E1vgsHm7hxBjhRga3nOiW6WnbT8+cs3yGH+/chThqPoMJk1m8ju21ttTFLPrW/Nm5ToJrKh5UbZABL8RrN4BwG1g1BA2v1+yBFv8FYG05ADJHqleQC2swx9joWTcBBNtn9A5rAZ8SVSABvNrqhARx7KHZHsUbwWEqEsbkrqNQCLIEaxSgTN0+QQ/a/1loi1I5m6NlX8vJavW4PgF/HECvEPqVj3fOziyKw7ZPj+idrNwooYkuolf/LcPk+mlJN/SkjKYr4ZVVmDXCPYVu2nd2zMfCXLNRExDri4LSR1w92M/vvQbeSdPESPhXDUu+Q1Pn/QA8VRqaDipYdrlZXhnjIb622H6q8T0Pr/3zqL0dire/WlO44Tuq+PVZnrfRqHjiaZVOHEmp4V6uEx5PGetUvwPA5GMoSApkecDqZdx3PXcKSlfQO9LkMtSxKA5iJFwJe8wlqGlhqUWAXWkVe4YBmjiVtPlHAgAKR2IWiFoXsY1YT7IMAzdM49C5X67Qa61yYU1/wJQOsWeNNy90fFHgylq5gWlJq6vgTbLDz02oMILjXDFM8AAAMAAAMAAW8AAABlQZokbEN//oywAABGCmF8ah0j90nt3m5FgPXQh7AI9+UuhlZxyjlWgcChTBucCWrZ+LxHuot91I8N2Eyazp3P+M6zaNEQKdjc6jdVUWW/dLYTebls9zGuNcELQeu0bnFFN0LgseQAAAA1QZ5CeIV/AAAWvkuwQnvcNZgljp3rvWaUqXv7X3exNunWwAEpqmkl0SrM55McnaXV7QoQF/kAAAAdAZ5hdEJ/AAADAENhu75iffKEpydQYanH77Y8Af4AAAA1AZ5jakJ/AAAjscwBk5pxLTKQBCiBvspppDaRDFEvoASWAbWhexsFwVb7TFaKA1eezIXj7jkAAAA5QZpoSahBaJlMCG///oywAABGO/tRVrwrsCADa9AUaz7/zMZB+FlLNtn/O9spUN9XVYP2g7msJlBBAAAAQ0GehkURLCv/AAAWtSs3Z/u8iXcAOLaar5KkIoilUBzE5hKbC1iQ06ZKdKY+2uTjMd/7+7li+EzZ7B6tk94ZuMRPSoEAAAAdAZ6ldEJ/AAAjq/hbeBKd1TNwqCr0YYEmk+jzbPkAAAAbAZ6nakJ/AAAFHzCWe4ktM1ch5oEAgfzs+34MAAAAREGarEmoQWyZTAhv//6MsAAARgL2nra17s0efBxmgEJfzMaxU05H0oiOnzkoJj3kcxd0VPRG7fcAWvjzGYWMKoOFVC4gAAAAQUGeykUVLCv/AAAWtSs0PhMgBsPIYtW+2+hgm0qGUwTEc2z/k8FIiGDrE6Q02WAH+LiXASns4VnV+G6YD1v2EEO3AAAAIwGe6XRCfwAAI6v4XYtUAJLq7M+U37c48pAZFvJ3qPZ8sjkgAAAAIQGe62pCfwAABR8wlnuJLTWrk+YAXqWSLFyd6iXjDkz2YAAAAGhBmvBJqEFsmUwIb//+jLAAAEYUwIZoMZeybaVLABOqry7gftfckE1j/IGl6zkS1Vd2y9RYkvNI8MjwkdvBRsDsK7/Rhkrc1co9wgkYG5Uz8D6bGmGEJZWP83mlvUFo0FwOSJi0gEpSQwAAACdBnw5FFSwr/wAAFrUrN4iuaqk3rDrGWHb7MJAUYMf5roSg5u2FnJEAAAAhAZ8tdEJ/AAAjwxdoqbAMTtQ5zHI8aZO46WRDGK0naTcXAAAAGwGfL2pCfwAADS/bh16ieBBLgbJZSU8W4dG2YAAAAD1BmzRJqEFsmUwIb//+jLAAAEYUwIZoNCSAEvTjCybu3rctSiw972km3rwX1xRc0sx2xZuoX7z3hzPI6CpAAAAAIEGfUkUVLCv/AAAWvEPNtxXMsjQNUK4pf+rDDGtedGFZAAAAEAGfcXRCfwAAAwABUBb+PYAAAAAcAZ9zakJ/AAAjscwJb6l471m8/ssidWjhDUqICAAAAEZBm3hJqEFsmUwIb//+jLAAAEYRrBDktvb72uYgEH3BalD/CKp9H696ne500kObIg8czXbzacpJkAEs1FT50NhXXotH4KEHAAAAIEGflkUVLCv/AAAWvEPNtxXMrJlJhDIqCkMgG/es1EkwAAAADgGftXRCfwAAAwAAAwGpAAAAGwGft2pCfwAAI7HMCW+pb7IVXCEZgKzsrqY1swAAAFFBm7xJqEFsmUwIb//+jLAAAEYRrBD5HwQgJQxoATSq8fFxhRFjBb1x8j65yuGf07p8P4HMVLv6fXZw77TlzG2jL6BSz4riZr+ZaUIk9HtCSqwAAAAgQZ/aRRUsK/8AABa8Q823FcyyNA1RnvJLZbhjjyRTOSEAAAAOAZ/5dEJ/AAADAAADAakAAAAcAZ/7akJ/AAAjscwJb6l46e4caZKr5D+OfTClQQAAADhBm+BJqEFsmUwIb//+jLAAAEYRrBDk/FAFx8REgNLXDGm9UKy+zT4UI4RpekOGfm6Eh3HjwkZUkQAAAB9Bnh5FFSwr/wAAFrxDzbcVzLI0DVCuKX/qwwxrYonJAAAADgGePXRCfwAAAwAAAwGpAAAAKQGeP2pCfwAAI78EJZI7ry1v0UOxqRBqbT6tkOadtBTEFhly1CUrv8GBAAAAWEGaJEmoQWyZTAhv//6MsAAACgY2AgAxLoEfRJ82fp5cCbujrDYd2//f/cbP4rE2Jm5FUnoqVUfQg1B0mRSyXGpJFg8wkkBsME6dnbDZIV4IwoiZH+oW9/wAAAA6QZ5CRRUsK/8AAAgqP+fAMArBVHkc2N+JRAA4p+R6t+2onoZr6y4Sh3WEofA7DYdTFiPv9KwX26lNtwAAAB4BnmF0Qn8AAAUeMizWvQFK+tpWgaGZSyayXA3WOSAAAAAqAZ5jakJ/AAAFHzE0piuaJhgot2WZGHREWw3XUAJHoUFMDk0tloMl5rbhAAAAiEGaaEmoQWyZTAhv//6MsAAARgIFeT0tpsPJZLD+lK85Sanjf4AIg3vRw7sj7IcAyjXrjWptWJjfHNMX3KVg58+Pd2Iw8Krxixs4p9i7i/uVImIoMoKZ2TNCCE3jMu2uKHGDgXXYIS16WxoUxk3zUCHSsPzKbXJ9b9HANkXfBvsVt6SWKBargsEAAAA+QZ6GRRUsK/8AABazK7UEwTGYnvRsqXvgALqC4mrY/tkFEd2FVZ6I2OMX3p8yOdv5iaMn7rwE3c0rnfQgkBEAAAAmAZ6ldEJ/AAAjwxdoqaT0IhazPxZtsdywBMSLeyg2ijWnLiEAtuEAAAAvAZ6nakJ/AAAjvwQnEsuUjxjdagdcciYKAibpfkR52h9qGy5jPklsYclbhgFwJUAAAABZQZqsSahBbJlMCG///oywAABGFMCGaDGWJqjBh961sAV0484v6ViJRubIPkkhgIcj6At/9X/+L7/d+AKOf5s90FVCNQvVA+Wzi8R6KPWMsFu3pVfz8EORuyAAAAAvQZ7KRRUsK/8AABbAmz9ItwX5KU70XmYlc/YrEFcmRsBRjVxzqQjD/ufD/gZejkkAAAAgAZ7pdEJ/AAAjwxdqNYpkBJR3GS0rnAJZVwscDnK5RSoAAAAzAZ7rakJ/AAAjvwQnEslps2Zb/uUl4W7WBHC3M9HUcAAhNRvZ0pIQpusLCRslApAGto8GAAAAg0Ga8EmoQWyZTAhv//6MsAAARiYFaggaePyQAXyq2PNTGyu/LPR+GR+aWVDZkTq1JQc9qLjon6c22pnRf3SBPPj5MmjCzV2AqxIcgM6Je4NN9UJdNB7lBC0ce5Dbd7IQ5qdXBqlVINmuUZ7zfCkVOKuSigTK2W/svz4K1ifpzKN2XyJBAAAAKkGfDkUVLCv/AAAWvEPNtVJYIyvCKRdY9WaDVyPKA1sQ9nv7B31arvolswAAACMBny10Qn8AAAMB5q7lLiMTjCf31q/j6BauPkjca1iynfWtuQAAAB0Bny9qQn8AACOxzAlwPGhKrZf4adNYloHurikxKgAAAE9BmzRJqEFsmUwIb//+jLAAAEYCBXk9B4f4OjUKzAYEuUKFPNA9kJySEuenM9K1bM83kyrcWDx93IH6Lwz5KOep0pZZtk308kqz7iNu7BZcAAAAMUGfUkUVLCv/AAAWwJs/YaxMxKe5zS3BWzkmumThmiYVHOX1/r89AOmgUn+VmiyAVs0AAAAaAZ9xdEJ/AAAjwxdoqaVT9tRd1N7uGQ1SN6AAAAA7AZ9zakJ/AAAjvwQnEsnDB+0FWQmRiAN3dImDDYJMJtrqblb6gUxC2RQAPelj3Fj0JIKfbsBlD9c78GAAAABNQZt4SahBbJlMCG///oywAAAag13ak9SzLcsCNieWKNKniktZ3zS9B2Y8WSALxVfi6EEhma6cfW+pG9v27jKwJyq0qG3MCsAPfe4fxZcAAAAhQZ+WRRUsK/8AAAhsClIKBdmDIzZVcVflmgDgLHOxmsduAAAAKwGftXRCfwAABRz3zYbnYkXugTmP0NWY4JO2De+tqcKfttuLBLU+63LB7ZkAAAARAZ+3akJ/AAAFHzUTb4awfcEAAABkQZu8SahBbJlMCG///oywAABGKZVgQE6aZ/yK4xVHbymwBVXZpdE9kXxPeR60gCbjNnEkzqwxhHNc7hbGBKFaPbdtXaZsZQuMQeUuwR49DIEg7+unvKh/ILedbkFnT11+njYloAAAAChBn9pFFSwr/wAAFrUrN2tphRqoyLdE1m/03I0ZDvrPa8vrgXKBn+DBAAAALgGf+XRCfwAAI8MXaKmoQ4HEagHHtKHptzqAO/dXUdhw1SZxbLNi25d1Oepi2YAAAAArAZ/7akJ/AAAFHTAOG5Qa6DsfgJxZAuXKNdAA75J/qWChI7GNwaomDPNswQAAAFpBm+BJqEFsmUwIb//+jLAAAEYUwIZr1onaUdvTBRYAIJyaJ1y/EROyvZYBVxL+OUL0YTobwAcnp9earJjBBpbMbmK/D0f/GsX+6f1PXb/pUqBBAkItQ1UalJkAAAAkQZ4eRRUsK/8AABa8Q823Fhe16dEJlO1rDVLNaCuzCmirHO3AAAAAHAGePXRCfwAABR/L7RU2cpsP+LfLtIBAZAncSTAAAAApAZ4/akJ/AAAjscwPdtzf7BcCOvbJhrjljsEYasuoazI+41xoReyFYoEAAABCQZokSahBbJlMCG///oywAABGXPOV4CuQIBCLD8SGIw81Idx5hrxn5pLazX9quyFYX6rQQhhce3vr2RYcpANJrH4sAAAANUGeQkUVLCv/AAAWvEPN+M3gADdWKUqQIGtn6w7ueVbEwt5RB5eHlDyNpKQsx3TrPngbTDL5AAAAGwGeYXRCfwAABR/L7RU0qpWkNnZBzAo5jG0KjAAAACIBnmNqQn8AACO/BCcSyWmzZmB1HeoMNUQoPEzogUNNBSAhAAAAF0GaaEmoQWyZTAhv//6MsAAAAwAAAwNDAAAASkGehkUVLCv/AAAWsyu1BcUHACEz9cRiAidodTZpqBcmPZH9jptkjmWt2H/pYRuRIfSFSlSEFHQzzu6/iCTuDc0yZI2C4W+Y7D4NAAAAKAGepXRCfwAAI8MXaKmoQtzbzPGchZWuKTW8QN7+Rs1oKBG9W4qpkBEAAAAqAZ6nakJ/AAAjscwJb72BnVkiWrdwEVhla+QZognXteVpJAd6mjBMmWzAAAAAcEGarEmoQWyZTAhv//6MsAAARgL28nnxDNLyAHCGahQuxkk4KtjYHyZ/qmsVYjKKDUJ4uWpQ26wc3i0UVyyVtYjmrEt2W9zKK8RGD7JMwO+WgDbM8F8VRFhbok5j9BwQyb9qf7ld+f39WDPyru9LUmAAAAArQZ7KRRUsK/8AABa1Kzl2UIddU2+qkFBCTmkIsbbYADdGCy0oU0FkASd8GQAAAC4Bnul0Qn8AACPDF2iLJfD08KBQL2zumsTsugBa2oE9E3/dN9pszcg9URPv7STAAAAALgGe62pCfwAADX/WnFlB8tWIAKQFHAAyMxd4TBPV3gAFYMtnUSBhI0zRg8nOQEAAAAA9QZrwSahBbJlMCG///oywAABGFMCGaDHRHBb47Vj6XKK+ymm4QHxepYAb1Bpmqx6ZzlKYF/ip3kfeRq9twQAAACpBnw5FFSwr/wAAFrxDzbcmgAKUq8AFb1yNKb9xksa53PaAADwBLbGzwYEAAAARAZ8tdEJ/AAAFHN+yN3g4IeEAAAAnAZ8vakJ/AAAjvwQnEsnDDEACGKOsIXygxA5ZAmMFCroby9u4MF7MAAAANkGbNEmoQWyZTAhv//6MsAAAAwOjnJEFtHEKykAFKkP/mdyWTbPDKo+AXwd6n/zJFjlaCY0HuAAAADlBn1JFFSwr/wAACCc/MKjOgBuWjGT5pJ1KqxnpUwoCstcvFZP4oZhdScSL9jttTR/PLwLxc6Rlz4MAAAAfAZ9xdEJ/AAAFH9DAqFJRuT5pwTNSJIi+qF1XhrqtmAAAACwBn3NqQn8AAA00n5fHA03Fa04koHNEMJrvUAfQAkeL9VLBQkderFVvNPt8GAAAAE5Bm3hJqEFsmUwIb//+jLAAAEYC9vJ6ZTEzngCMbAAAOFF+lH806jSdTKtzakDTwICHYDlLsuubkFA+smzXjNu64M0MgfC7zm95zQrQpO8AAAAeQZ+WRRUsK/8AABa1KzdrWmENTyfOCM0pJItKriAgAAAAKgGftXRCfwAAI6v4W3gKjGCj0GhJykONpDaxN3m28d8hKyCEhu3EDp/tmQAAAA4Bn7dqQn8AAAMAAAMBqQAAAGhBm7xJqEFsmUwIb//+jLAAAEYUwIZoMS7Bl1XZgUp8K4erQmAPCPNv1t3IX3aaJ2LfAFh3wxm3aDyyNrya6JBIuIUtxQ2o2wip+qydgshBJfSYq2MRA07lMAKcx0FUqKf+F19k0XHbKAAAADBBn9pFFSwr/wAAFrUrN2QiXB0/cmINSL9Si5aLb5Vw1v+P43S4pbo505uUEv0vsGEAAAAtAZ/5dEJ/AAAjwxdoqZ3xwMOyCg6EACWo2ymh3nWaZjzHISLyttR5D0wi2k7cAAAAKwGf+2pCfwAABR5wavNrSMXO6VOjx5qhZ+rCPQYAO+bNs835Yb4JDXUtLwcAAAA0QZvgSahBbJlMCG///oywAABGFMCGaDDJ0Rxf4403Ku+m6B76Gzq2OzBgATN7FVcP+ganqwAAACFBnh5FFSwr/wAAFrxDzbfUfJr7YCZe8OMahqQNax3uFbMAAAAbAZ49dEJ/AAAFIKq6dOXTUyAHt9x9Cnc4zDeDAAAAKwGeP2pCfwAAI78EJwtH9a6g7CofGaFQxfnO3Sd3+38ks9r6jSEPNu+4vy8AAABoQZokSahBbJlMCG///oywAABGEMFIC39EjBF+gANG3v3HCwzgBZdzGNq1acYsZ//iPODq7nnWoihYcSk8KO4ET82DP5V4yBKTu5SGQBDTHK0P6YLpici4thi73BJfyXAWisbvQs8iHRYAAAAtQZ5CRRUsK/8AABa1KzfjVACPX6rdsrgPVX3QUFmTt+2WJj1ber5BDe7WGBJNAAAALQGeYXRCfwAAI8MXZlxq+QzbbV2hNn1JF/Xt6y6m9WTF/3gviIi++i/AGHTbcAAAADUBnmNqQn8AAA0oigKofo3+JtkCDyLPPjpkSb6zPZRJuJKVASoANrvrirpcNfJZa/YyEp75gQAAAHJBmmhJqEFsmUwIb//+jLAAAEYB8ajv427AgBLLWfT25x8fNwGdxSVUwskei9ntu5PuJSowSv2cHJswRWBWqTZAqlK6+4XcFmhDGgF9su1mE5RtNi+NPGKCTphcRXM0jSSFOVq8HKzTMyxYfToyNpyOaoEAAAA0QZ6GRRUsK/8AABa+o53+XUmg+SHDdNYkxgBMpp/cwP5tEn/IdsHEuOB+7OF5+FMGgL5UqQAAACkBnqV0Qn8AACOr+Ft4EC+KwHvjdcymRxqs3UkFO0Sxx3NnLUlep9ztwQAAAC0BnqdqQn8AACOxzAlj4/G/1iV5uaGq2cIwGtEDZH4qb0Ceqo4cBh7gTk1gSoAAAABwQZqsSahBbJlMCG///oywAAAah1QQDWdOQlfybXqsDBmvyStUuhcuBkLEeNYTQbb489HAIcrya52d+Bn2Y7xAd76UrpFfeQZKPkv6JrTHOURIOW+fs45/AuYl34ZnSUcct5iiFFBNa0WClYpvEmvsQAAAAD5BnspFFSwr/wAAFrMrtQTuUMQ7Xoi/gA8/wq+AEX3FHVveh8kVu0H4pgN2IPt0PAPBN8vhhdX+aj69JtSwYQAAAB8Bnul0Qn8AACPDF2ipsmAa3wbWjdgKh9BDzfr5ufBgAAAAPwGe62pCfwAAI7HMEYEuvrk6geuxS0zWJskAvYK8Q1lHYVz+kIA+DNN+3ZFWhT0YQAS/Ht7/lxqxSscBK0AgIAAAAIZBmvBJqEFsmUwIb//+jLAAAEYCBXk8+QCQAbPuA08+A3XlhG3/aOpORowRdvZAzz7wBmezbaoKckiIJNZ1GT90k4IOuEqYo+WVWmQc7WsGJ87XEsMgu0w81bXf8JEMZg8WdPlc3XkhpTDE8Vp0biFlnm61TblJLjfmqt3z91yD4QwVDMTWUwAAAC1Bnw5FFSwr/wAAFrMrtQYArQURfONtiP9wc1B5PPpv84jAeQalWMVvcGgv8GEAAAAtAZ8tdEJ/AAAjwxdoqahC6zF3moyFNRQXPN+w+zhuuCfj7gBubdeRzqIcOb+zAAAALAGfL2pCfwAAI78EJo0CIbcl4O0+Ol4zulUM78bkJMI6p9lSdQl2V65jBzbMAAAAV0GbNEmoQWyZTAhv//6MsAAARhGsEOSf109/sNGFK0+8AH5WD3X5KDbvgCu8L0KokLilc4+5GDzwCFDmQfWJIjJIzNsJVQoePO5sricQXmh+CinHhl8wQAAAADBBn1JFFSwr/wAAFrUrNUwD9wbKLLjo9E8hCEfyu71WAhdNWoSJiKHeUoTp1TP3rbkAAAAdAZ9xdEJ/AAAjwxdoqaVT1mowCkrGP+0bI8DJ+zAAAAAhAZ9zakJ/AAAE9XLxBWwYx+1aQSjk1ZSlUlwCGtQhFKSYAAAAM0GbeEmoQWyZTAhv//6MsAAARhRbRSNxqOC3dOIZtFF3rW8EjcbsrawAZq4l2VterjoCywAAADxBn5ZFFSwr/wAAFrUrN2NyWDsADi2mq+PPATqgOctgP18sFIp3O+u21eij7HfZ98Em25hX3smvsGaZ23AAAAAbAZ+1dEJ/AAAjq/hbeBKd0tAjsmg1dzYNODkhAAAAHAGft2pCfwAADTSfl8cDTcVrTiSgclWEXA/fzJMAAABMQZu8SahBbJlMCG///oywAABGFMCGaDDJ1BUh0vIBB9x4krpoHtIomO5XKblMeudr09uegS8RBBYqzfl5poJIMVxcoYE+kOdcAY/ugAAAAB1Bn9pFFSwr/wAAFrUrN2taXriig8IwsDncx5qHJQAAABwBn/l0Qn8AACOr+Ft4Ep1oI4gRnrkaA90L8ytmAAAADgGf+2pCfwAAAwAAAwGpAAAAXUGb4EmoQWyZTAhv//6MsAAARhTAhmgxl7JtpUsAE6qvLuAjsNBNY/yBq2nmE50gZ+v4aIsGYjrG/4Ux9i1gLwx3SHqX8dUcNMus80FlLNLLwdA5hXpbY4CWRPG34QAAACpBnh5FFSwr/wAAFrxDzbcVdEOTpCRqSY6q9QZ7UIpfUSXcifjpaE+ntuAAAAAaAZ49dEJ/AAAFHFt5kseEyWeAywmUNmPnwYAAAAAZAZ4/akJ/AAAjscwJb6l4GovIiX2emkrUkwAAAD5BmiRJqEFsmUwIb//+jLAAAEYR5EAcLOkJK39GFbq5rM3t1QeZpdLov3sn5QNehICk75z2pZQPrALTirOigAAAACBBnkJFFSwr/wAAFrxDzbcVzLI0DVCuKX/qwwxrI70rbQAAAA4BnmF0Qn8AAAMAAAMBqQAAACYBnmNqQn8AACOxzAlvP7c3+OFkOnMtP8iZWUOUPMp8ngU7lMTtmQAAAEZBmmhJqEFsmUwIb//+jLAAAEYRrBDktvb72uYgC/uLP5bfOKdcvnCmXSgIYZ5aKL9UbHDSzNar6tgeHfapbcS5V4Ef1/6hAAAAIEGehkUVLCv/AAAWvEPNtxXMrJlJPgdOEqUAK/o/LNtnAAAADgGepXRCfwAAAwAAAwGpAAAAIwGep2pCfwAAI78EJxLMRNbgsXsZ93Bz8RgWyWKLBjDSZinJAAAAV0GarEmoQWyZTAhv//6MsAAARhGsEOH7XAgAX8sAE6qvH2kuKIsYCUD/etr1hEiz1D4vSTVVXd7AQcBsdaJtAT8drKMMmrWuksemyawAjAAGL1BGiR1pmAAAAChBnspFFSwr/wAAFrUrOt7tKUxbD4DHneD4GTTCLY7nyyaAbpQpzJbdAAAAGAGe6XRCfwAAI8MXaKmlU9T6uRaIJCCbgAAAACABnutqQn8AAAT7NNWlMazZ/44mTpDbGhGylfLLR5EtuAAAAEJBmvBJqEFsmUwIb//+jLAAAEYUwIZoNCSAG7KfhZN3b1wxs075q2oV1DKXjmuUIJ0F2jU5Esg5WcgURORGpsgle28AAAAfQZ8ORRUsK/8AABa8Q823FcyyNA1Qril/6sMMa2KJyQAAAA4Bny10Qn8AAAMAAAMBqQAAAC0Bny9qQn8AACO/BCcSx/0TCuCHRpzQvEJkTuijza72FAZiJfyg/w35VNg/bbgAAAA7QZs0SahBbJlMCG///oywAAAJyq7AdtDO2Uecioc46ABiLSKmmhNACgf4oPVqwcl6PjH5GTIA19FsY7AAAAA2QZ9SRRUsK/8AAAgqP+guFrNM/Ta2KsJQAvi3zHaL/rsxfHNGCBdEgA7jU2Wbh2GqpKq8x8GBAAAAIQGfcXRCfwAABPj3oEueTVwjFMPIOrATuTWfIpx7KiKSYAAAABwBn3NqQn8AAA00n5fHA03Fa04koHJVhFwP38yTAAAAY0GbdkmoQWyZTBRMN//+jLAAAEYC+t4CI6OZEZTS5wlObPwJvmKYB4V2wVE28ADNhB4XMfKYC4g9KRbDrr4j43Pr+1/HKgPtMBmBv1l8ENxaj9GVwJHownugBumCObRhY4RN4QAAACYBn5VqQn8AACOxzAlv5y70TcegraaTyyGIZZFasVykGzDNgwa2YAAAAFBBm5pJ4QpSZTAhv/6MsAAARhDBSAt9P+uH1oPlfN+OKs81Q02rjxefYlEAe+sHWwUYm4y0c5tKrGWoi2aFmX/zhQI3ee0wfPZb7hKXXtw/vwAAAFhBn7hFNEwr/wAAFrUrMOLtkfrIAFs1jWPP0670WnQeI2dXFLpbqj9XodX+IUfGlaD5wQn+PA0mLAAnWb8ghZ9uyqegdrf8BFSrYD8dpIyv+7XSfVmEYB25AAAALAGf13RCfwAAI6v4XXkEOz3VC4Wg2cvRCXcKuaph0cJBzeSrHXrgCf2yBZ24AAAAJAGf2WpCfwAADYSVLPcSWvWeBJngGfRvjdvho80WqX4/g6FswQAAAEdBm9xJqEFomUwU8N/+jLAAAEYUwIZoMS4zvt7AE+Ca6XtOp9Lt5V9x5z1+UctS+hLcMK/hw1BVz8Q12DL98z93xyjdF/hs7AAAACEBn/tqQn8AACOxzAlwPE4IzsBW8Irx2x3fJu9Q5GO0gIEAAAAZQZvgSeEKUmUwIb/+jLAAAAMDv+jg+wAQ8QAAADBBnh5FNEwr/wAAFrMrtQW2y9B73IAO418r2f2A87MzoBv7soIxoZelcfqbQJ6RSoAAAAAjAZ49dEJ/AAAjwxdoqaV5VPmiHy/fd/B7fwya/3jAzOw3kBAAAAAiAZ4/akJ/AAAjscwJb6q96m300EmhwQF7D+Hx32dq0jxkmQAAAEZBmiRJqEFomUwIb//+jLAAAEYC9vJ58RDh4zqCdFNnlYB0A3vHkABYecXCH3v9xCKknQDXoSnViVmbg5M5Y7NcJKmT/pqwAAAAJ0GeQkURLCv/AAAWtSs3h6hmelXwAC3guaEOXgnj6N8Sn+rL5W7VGQAAACMBnmF0Qn8AACPDF2ipqOjDHf1nkRm9QM/KrUHbr+T4oIltmAAAABABnmNqQn8AAA00nat1AD0hAAAAg0GaaEmoQWyZTAhv//6MsAAARilcXnVHgoBX18wQ5NLCu+rdbKJMaOSnONVmQk06OyxKwZZV9RlQi+0ajOUyHt9XHkadjxG+Kb+yr7LK3tGHOo31T2PcOoiSItXeJ30Ktlak3FbsRJtZLNRLcIGzxb0GESEeLn4TkNaKKuxnwZ1D47kzAAAAJ0GehkUVLCv/AAAWvqOd/l1Ky7fKhShLHD1chAjJGcFx8a1T+7g8kQAAACQBnqV0Qn8AACOr+Ft4ErtkUanyY8z0YMJVRQMbWnfwX1Tu0JUAAAAsAZ6nakJ/AAAjvwQnFBwH+sABbwB3Ghe5x1rvaEzj63H8Iuo0dHpd4g2m/ZgAAABEQZqsSahBbJlMCG///oywAABGAgV5PUOkfukjPZ5FXKVq4uCb3h9EGmGKvmxHkcuvAfo54mAKqcs4ep7dUJry8D8HCT4AAAA3QZ7KRRUsK/8AABbAmz9ho3azADUANy0aOI9eFqgt9eZLzI1PSXAbGPiwDqwVCaNJbOgyt2cfZwAAABoBnul0Qn8AACOr+Ft4Ep1ps+KAw4DxTn6MCAAAACgBnutqQn8AACO/BCcSx/z8wUSe2nzRaEfIltbubOKmZqKeIowT3QJUAAAAUkGa8EmoQWyZTAhv//6MsAAARhGwyE1e0qrFUGawBTiYkrcJ9z8W1WCkGYc0tpT4pjASsAINWWGlsQMuTiKIDaikc77ldH+EsCznwCZ++vPh/XcAAAAgQZ8ORRUsK/8AABa8Q823FcysmUk+FqhLGUDOca+uSYEAAAAOAZ8tdEJ/AAADAAADAakAAAAbAZ8vakJ/AAAjscwJb6lvshVcIRmArOyupjWzAAAAXEGbNEmoQWyZTAhv//6MsAAARhGsEOLNmuE20AJofYyu9SbhlD+U/Pet8wTw8Nyv+1NF2p9ubJ+x5tJ4AEpenh97WbumHE8ifh44tfjgz5prtF2sqKgBYx0CYE2yAAAAKkGfUkUVLCv/AAAWtSs63uadJd51muBI20Hv41Pd2UYAx9KFb6nun7kkwQAAABcBn3F0Qn8AACPDF2ippVPU+8Xk1u/BLwAAACEBn3NqQn8AAAT7NNWlMazZ/44kLDrxSoe6PHfVApOf/bMAAAA2QZt4SahBbJlMCG///oywAABGFMCGaDQkgBsWhhZN3b1wxqQADyiQUgZOIAKjjCpLcBNstz2DAAAAIUGflkUVLCv/AAAWvEPNtxXMsjQNUK4pgooORG2WBUTkgAAAABABn7V0Qn8AAAMACoC37L2BAAAALAGft2pCfwAAI78EJMZ/v9WjBQMMLhJLfh2vWE1ytmm84/Kyzs1DtFeeyNEBAAAAXkGbvEmoQWyZTAhv//6MsAAAGq/ljQDV7VDlit7UbhdVwj97r81amVfYLu4kSs9mW/MqM39KAtTqVC+a8L5soTbXnbkK1bmMiI4gKeiwe9EoGJOF+xMgpiE2bIKcO8YAAAAsQZ/aRRUsK/8AAAguN2iZ3wQGbNfgo02fmmgQRrYLw26D3Uv6jcINIHiRtuEAAAAeAZ/5dEJ/AAAFHjItM3CMr9b6zGjX+clZfiBf6KckAAAAKwGf+2pCfwAADTSfl8cGj/ttrKItmLnrBX3Zv9sAD5z6s7Yca67tQX5lbMEAAABzQZvgSahBbJlMCG///oywAABGAgV5PS2nYZAB7pX3z+Vu1sUxj2eLXfxQ/FhYxSp3irPoFLlgAB9fyoI8Sc8h/ILLOE7pegRcqSgAmr5Meh9t0YJAMcGJrOM0+cltwdUwge8Nq7Gj3WWFGED881NFx89hIQAAADFBnh5FFSwr/wAAFrMrtQYArQURgGJ16dAaLf8a6MQphcDJ3rWm0Jzj04SOAlVW9CVAAAAAJgGePXRCfwAAI6v4W3gWox+Z9UALllZS+AG/rlppEl8XaJpDxtuAAAAALgGeP2pCfwAAI7HMDUPR9BWEVHDiFUGAE5evym147er8b4Cx6tnoqc4TIwh74MEAAABVQZokSahBbJlMCG///oywAABGEawQ5J/WhyxoBpmZGLRaBhMSnfLBCknDs4VZaV8jJxNYa/a6xOB8Zsxd8ubUcmj1kWTt0BUyr+IvZCFdKPmloHTHjQAAADxBnkJFFSwr/wAAFrxDzcwQgHIAATuuGP0vqMTxMoYo8OxZWhqLo43TbRN1PHUWlAgX/wyyx200WhPn1s0AAAAdAZ5hdEJ/AAANhd0za7PnYvpg3g++8h9LleoZmSYAAAAwAZ5jakJ/AAAjvwuuLx+IFWsGSKbM67CsQNzNq2Qw/6z8u+AAmHJPQ/moAbal7GOTAAAAVUGaaEmoQWyZTAhv//6MsAAARhC8aAuNRs+jRY7PiSB1w5lF5CBo+/LvNFCWgCKhrv/wcobVtsLDCXn4/GNUNft9q8z1A1HVyvf0sxdmjiRzUYKcHYEAAAApQZ6GRRUsK/8AABa8Q823Fc/3PTu4EIJKb8G3zucmVQG9Boo7U7jcgIEAAAAbAZ6ldEJ/AAADAdqKHnr6NhaSj27Y39DwsICBAAAAKgGep2pCfwAAI78EJwu5Oonuz13Yf/yuuc74++7wbis0rj+ftGqI7HctmAAAAEFBmqxJqEFsmUwIb//+jLAAAEYCBXk9AkufWABdLjVG9mDrL36/UNqmePsyMoCScbMiDFtzI7Hu/Syd6lc1f52BEAAAADtBnspFFSwr/wAAFsCbP2GjdrMANQA3LRiMZSQKnWWDaC0dxHgH852DignaxDHbd0YLLjVWmRM4oYLJgQAAAB0Bnul0Qn8AACOr+Ft4Ep1psoiXaM+4FG/Y110d0AAAACkBnutqQn8AACO/BCcLR/WuoOwqwf/nKd+8O+iSxFxxAfNhq7yICZ1RgAAAAGJBmvBJqEFsmUwIb//+jLAAAEYC93nM9RekAFPl9H9PvbExvgiqTlW/vMxhgQ6hYc/87d5dPTyHQ8NJI62J823FTKpKeMHaZx6ehUPUkYC0wBDSbot7MeY5wNrSwO6zCqnrXQAAACRBnw5FFSwr/wAAFrUrN222gBLeHMknwF6pTsUGr2VFdGk1EBEAAAAqAZ8tdEJ/AAAjwxdhrCd1objWtvLp3mOGP6D0H+o9YUPohN/lDGhzpptnAAAADgGfL2pCfwAAAwAAAwGpAAAAUkGbM0moQWyZTAhv//6MsAAARhTAhmgwy2wAUqgTg6UI+F+kk2iHOJbHanJFsC9LpOheP/31HYN6x1/hdvpp6WIE0ABh/MtetxvQECmxQW2aYMAAAAAtQZ9RRRUsK/8AABa1KzQ9VCWyx7no2MboEzORDwlGgJUXdsNcptGhHv9aOgSpAAAAGgGfcmpCfwAADX/WNMDbt+J2gI2pNSlWApJgAAAAhEGbd0moQWyZTAhv//6MsAAARgLP8noGOsADsdv0akqDYpqM0djvpoP/rLceis1IA+9s0rus5n29uOMyB6Tle6wXVSnJZ+NHVGf5qf43mpgCEjXvJH0QZRk2BLJdcG71gg5ws10Hei+05+6B9FsCTJ1itEV9TsL471tNKNCmIQYD1SCNYAAAACFBn5VFFSwr/wAAFrUrN2tbQf1GkDOhY10nIGQmvjcM7ZkAAAAtAZ+0dEJ/AAAjq/he0uDav5naJEWG2jQGj9SAXcLZoPX8jazuTTH/mS30V7bgAAAAFAGftmpCfwAAAwHmpPIZ4GVXLGW1AAAAQUGbukmoQWyZTAhv//6MsAAARhTAhmgwydEp4gmKnQ6pJVBSQcuL98IUa7gUrplHtYHyrJSzkyTA3THJPZbwNfjxAAAAOUGf2EUVLCv/AAAWvEPNHKchFaw2hFVMPsAHA6Zts29rZCpIxz2HBwBv+6y0onPTkuLVjitkjgSQEAAAACYBn/lqQn8AACOxzAlvqKc5HoRRnhXZAcx2XoAhXpWETkCKcoEQEQAAAE1Bm/5JqEFsmUwIb//+jLAAAEYC93nMpOczAAWLOpzqGOf1i51Bj7EoTI65GjU5vOXpz01tDWHLf6Y1O3YDqMP56VCW4EPencOhwbY8RAAAACFBnhxFFSwr/wAAFrUrN2tglDIq1Md5V/VWNqyGhmq4qMEAAAAeAZ47dEJ/AAAjq/hbeBOi94i7nk7wwfWxtsGUpOSBAAAAEQGePWpCfwAABR+WWkWFgA3oAAAAL0GaIEmoQWyZTBRMN//+jLAAAEYUwIZoMMnZug2uV/fhVlBDXKbDPz0KbQtPBT7MAAAAKgGeX2pCfwAAI78EJxLJwxewBp7hcKJGmM2kfB39AVSMWGhmSg9iDMSAgQAAAEFBmkRJ4QpSZTAhv/6MsAAARhGsEQEjccwNAGAYAFbhNZVgtE/I4kDVjqV6wIKtEHJYqFJwQvBseqa3dO6FeDG4tgAAADFBnmJFNEwr/wAAFrxDzbbgIoU4AP5rEZFkpUeJn9CacdxVaJLdx8wQ+uIkNuTbsB25AAAAIAGegXRCfwAABR/QwXjY7O/VXhBj9Ns6uVex6BlQbJjgAAAAJAGeg2pCfwAAI78EJxXCweWWm/6RLSJSbhPknmrABsrNUahlwQAAADxBmohJqEFomUwIb//+jLAAAAoRiu985KMdRxRAHPS4uruuMstowDuvR/LxAEO/wgRqshxhvOoUVOgSOb8AAAAkQZ6mRREsK/8AAAMDOFGYSAB/NYt2ukNMrRHvYQGY7ojrLeDBAAAAJAGexXRCfwAABPvR4z9r7sY+241rxDAxHqwkpJYBqYgxyg1eDQAAACoBnsdqQn8AACOuXjOACVdthcxXS6ujUE+XDrdBJxzsiAAtKFnsVjA6rKgAAABMQZrLSahBbJlMCG///oywAAAKF/S8gIMpREKKjj+c4KrOwfaSK3BMx3xiXyhwGVp86CtoUl3g8q+pA2nWoegnjNLHONTch+JMWxclDQAAAChBnulFFSwr/wAAAwM3cQGoQEGevn5mLQW57SAuyCIYbF2FJOLfapbNAAAAHAGfCmpCfwAABQ4Rq5/ESIh+nGMaQYoIEYwAOSYAAAAiQZsOSahBbJlMCG///oywAAAKF/S8gFmn+MraBu2h0NAImAAAACpBnyxFFSwr/wAAFrMrtQW30A93zFxoUXq6M3XcfQ97dEpDn32e6G+XwYEAAAAwAZ9NakJ/AAAjscwJUz60HwkTvIACWKkJ43Y6oiUg5zwuxSv6w8pviDfoe7PwYbwZAAAAaEGbUkmoQWyZTAhv//6MsAAARgL2WOP1hQ48sBgBKJytLaqfGQm2sNpGusLzYbSJAMXfxk4e/CVcF+sHKd+JwKHvQ/uVShDoUsHAe8VTmHkVr/9BkR/qRWBZp5A/gNyf9rv+mO7MYH5dAAAAJkGfcEUVLCv/AAAWtSs3a1pfr1W+H4taKlk5XtRg/fGJT96DAwtmAAAALgGfj3RCfwAAI6v4WdJ1AXW2uJK78Y/OXOorMJNGaqJkjIx++XloE34KmbIfcWAAAAAXAZ+RakJ/AAADAAo+eQzBUQKMa0M5OSEAAAClQZuWSahBbJlMCG///oywAABGFMZpf/3JYAT7x3EIvEagDdAieQh9V2TkhBd8al1Iz/QDECYhGBi/00G9SKUJJcbtNQRGAJXLjcILlZHLBMQUwVfhtfGzw18FtVbzLVwz+C/UBvrU7MAA6AyPtY9eaZS43P7I6rTv7JiuEXH4VsbE6Trfvaw/tPw0TaIqCNWP+VLHqhYZNaJOqqTm1S2XA9IEzOkyAAAAMkGftEUVLCv/AAAWtSs3aAcA1SJK9Yg5RuaSvfzRKn19WRNAeQD4dpKF7ZQl0tpo1QJsAAAAKgGf03RCfwAAI8MXYRY/Us6KfoNQ8MHveR6Wv9PDd6NDUYMFZLsPeP1bbwAAABwBn9VqQn8AAAUecGrzazxVC3YTUtqQq0OSbpb0AAAAckGb2UmoQWyZTAhv//6MsAAARhTCZpbNMLgKv58TN59PlBYbo8CNEOaQkDrBcFuK9BD1UjCRlBA8WOKq6uZiObWv4tauMmpbwIjtG3hPaSHBYOvWciJZ7APu9fdl7wnCvK9X23mEmvtd8jso3p19iAgdUQAAACJBn/dFFSwr/wAAFrxDzbcV5UJ2VqZfsn1w+eAAMyArvKobAAAAKQGeGGpCfwAAI78EJvuneAk4gyd1Ttd6FH65p93rv+nyhTGgNOBN1rBYAAACPGWIggAEP/73Tr8Cm0WXagOSVwr2yqQmWblSawHypgAAAwAAAwAAAwLa9HiTO+TU8TYAAAMBBwAoYVMRISAUsbwqBK8j/A6zyAoNwxo/Gw9CVUUVWyenq+MNVGm6jR2JBLw1VPbxPo2vRXjmBQMSOpwPUpbXgO2h2uF6c5Dd+JW6J7eUUg9b3b5PqNZMrzy5zFp6AZX2pN4VG6YRqC0+Z9b7BdDurXX5FGJ4CqTaUQCONkT7PdbNVYBZ0tU3FuNdKpXs+e4WsK4tBhm764E+/eDqHezMqqgB2k75cL4QtPTajOkaqAXz6yjo8KCD+c8dygjuyo7GrZ8uSqdjGAUoeYev52HSt+tS900nK2VzCxajF5dIUA+6eAh8GeT6UU8Cq/CreBrUtILsmZ9jSGgniH6NdepPIs04DATbCOD76MZddkehQhvsBaOBo0z1oCbAxABwtqAKmLqElRWZ2X/riDqsqSh8h0OMj/dQlBQy6ixAf+rySav0m13Jck+5qrkgOoWDBoaGs35rBbRj9uc3gpEM8oKrl5XgS+ybAakcp257qauj+QjqtFqHh1mw/iI8XSASDM6kKEYoSuTSC3y3DnUIaR+ViIP81W2vnnLcFX44kitgtkBNy48C+GiQ962VQqLJatqBGn7EvQUTmnsuJGq0N+tr4ljme7h9JwRwJAwnLlAvMt61aFRU+/aLr8Fk+zpjGd7JcItyh+MwbTaDQU/xBoHfjiv9KC1wODIutZV82PA3eAAAAwAAAwHFAAAAbkGaJGxDf/6MsAAARgrlcq9wh9aFYfLNvRmQCGmqjMwiosYnrHQipHiR+5oH4APnk4WWoIibs3joYHZ6jqLvEGIA2ur07eKwRkAhdVmSRR+a6uDL65KOX2Ofc3fIAVstmTqvaBTjEKvDPioGbMtAAAAAH0GeQniE/wAAI7HMCW+pdgZdgsOKevdecTRU066FT4EAAAArAZ5hdEJ/AAAjwxdp9jIlABO/rNMn7wAf38VVZinkTd3C9yE5QAv+WxuCwQAAADcBnmNqQn8AAAUeRMWp1GSRocgyvvYYWQaAhHBs1a8u2AAiY0n+AATdIczPjSioNWbBTBzt/M+AAAAAV0GaaEmoQWiZTAhv//6MsAAARhTAhmw6QgsfrvTGTl6x4EwQAG9DN5tOKwm3ZG1ya5WeJrQNKx1fLwhE03KD6suPzUdT1vrEC98j1cJ3wExugaCiNFUjsAAAACxBnoZFESwr/wAAFrUrOkxUnc/Fs6xpAWzGawqi/+Y0iy8AUvlASiA7qYAmwQAAAC4BnqV0Qn8AACPDF2nu2/0En8PloYvGF/qLLU9fkf3JkXDCmOXUSN4srlPDykMoAAAAJQGep2pCfwAABQ4RX6K3iLIwwKlbsCcFJfdD+K8mblUC5ud+D1UAAABmQZqsSahBbJlMCG///oywAAAJvlJ4tPFv0Ri8ZLoVZwmmB20AwsbMT2hgFBHEzo1QpWvZM8kjrc7VjtQ7Vwt1JZrnZfCm+XqaBPtvkqQOUywV3m2nPISUU32/4bjnE9Ih1WTPdlwHAAAANkGeykUVLCv/AAADAzre8AVvWNAGGXxGdItJQjo9dWvS7azKaGBntthROMLH30bZ6nZ/4pPvQQAAACQBnul0Qn8AACPAmOlYe+hbpWq/VELEsdUqXkWa0QTKre1oxYEAAAAaAZ7rakJ/AAAFHTAOG5Qa4uPsbVg5bMlDmLEAAABRQZrwSahBbJlMCGf//jhAAAEO+BvIT0BlDAUURHfvc4KtggmUAHG9aZlLcfaHQdWCgT4ufdvhWUM+xCix7oM4ffd/uyq8XOkKQ1lBb3zAiD+RAAAAN0GfDkUVLCv/AAAWtD3PyuGEe15RTgBx5RdOg510LEe/wcQsS3vQP7q8BCA86fXza57epR8dDFgAAAAuAZ8tdEJ/AAAjq/hZNXDEV/8D9g2LS8/y/yCXmd3OlEJwsPWYJhq2v39n4SKIbAAAAB4Bny9qQn8AACKyPK9USlTj0OgN5tdBTdcH9Bvfwd0AAAA3QZsxSahBbJlMCG///oywAABEQqWp5VI8r+ysj2TibB0KtzJ+UFxdjDXeAjDglalBFwnJ4zBVoAAAAG9Bm1VJ4QpSZTAhv/6MsAAAGoXFQ7sa53Q2GD60AD21tChj68wkcXu+teCjjkNqCgBYZ5SuAfUc34wZ7OnZL4hr0ntDU152TK3XmxmFx+3I6Sj5kbyeJcKB8krE+6BYRjlCcsNxDLbi/BzOJqkxm0AAAAA1QZ9zRTRMK/8AAAhxT58tK2lqEe/2IhgAG0gMq0skDae+9VlhGvGU3aH/KyVH+SpUMZwMGCEAAAAuAZ+SdEJ/AAANfhLzJY8JksiYbOZKRQwejUgw8zwAgSefyJ57496m7hZ09URiwQAAABoBn5RqQn8AAAT5PmDiZxyGOo6df2fp75xzFwAAAGpBm5ZJqEFomUwIb//+jLAAAEQC9/mg6DMsaE436rZ5rmoP00ErBOQIar+hn/ducGW8E4s6UCFU5NEVLrmikicjmuZn4W7trriWxc7Qhd/9km7no8i4eUereSPHSIftJStBC+jc2PY9YBggAAAATEGbuknhClJlMCG//oywAABEEMF/XCMepXudnQolWeXAZ0ksz9EOVMzkwLUMACw8VC/PBviFLWlCpFovFjH/7IGnW039FvkSwl13fGAAAAAhQZ/YRTRMK/8AABYlX03ll/wI4E7H5NI3r85jiEcgP9lRAAAAKgGf93RCfwAAIqw5BcJ5yM6G5Sufq6B1BYc2Aw6q8ntPz8DcvDrX1edOWAAAAA8Bn/lqQn8AAAT7l97AGPAAAACNQZv+SahBaJlMCG///oywAAAar1svS7t0hp5ABH9WbyxFZWVvfFoMjGAteA/A53Mtsw5boNjxoSgx/tzdOfyZM5WQbzk5QW74xm3DHqWwVaKTWyIxacaOX6XqJdIhHK1CJ55i3Dm1Gguzi4/fLPVVP6ARggxVhweXZ4ta1veTNSooqBizbSrPww9PLrhzAAAAMEGeHEURLCv/AAAIEnCJ1mVHgWVrEwBUGe7U3G2BWIPQDDSq7A8vgTr4jsPL/RwMFgAAAC4Bnjt0Qn8AAAT8jmRexD7qOt6Y9NgQnyqa3EQPOQtBybrKMn6wg3P9PjFll3BZAAAAHwGePWpCfwAADTSfmSLfr14fkFRTq03l5Eigms0e3oEAAAAbQZoiSahBbJlMCGf//jhAAAAkqiebBXAcgD/AAAAAPEGeQEUVLCv/AAADAyTJtOPOslbGcLqYwmkAKzhh4doVU9PUAJv47jwxlCmYQYqpIjF7Ns4AYpNFvTOb0QAAADUBnn90Qn8AACLAmqGlkAASxT50+PpqZyWJlsXATlF4roM+L9r77X480pvJtEXCFLS4h6LMWAAAAB4BnmFqQn8AAAT7tAhrqE7y0zONECR6rw/qyYzV1xcAAABhQZpjSahBbJlMCG///oywAABEAvf+vS8gEEwqXYA+roMkW/LE2uv3CHu7q2gZyXsWX+BQLtD0aneRwZe3x8L0z3M56QPnQHnOe6y8N7Xt9fIkZwR7/f8R98ost0dtcESygQAAAL9BmodJ4QpSZTAhv/6MsAAARAIFvTfsQ7rvwFEusXzLj0KCyAQJPV5bRs5ZnC5c6+kzoIpYy6/VFoevQJTtG2j/XeS5KsUwi7IEG69WaXEV0NAuAz2c9h6tvaw644cEBTOLSMr9AFHXleRrEBdw1VL18c3uwIimBzCDet1Iu9XavXkIxZVUzpdKasU9ZYMKMSQxJMaCvZwj72S+KEB0hFEHbAUAs1wtk2jtKWEs4IJ8zvwF8IbsC6hnNF01Wi+wmAAAADpBnqVFNEwr/wAAFiuUWDyfbClz/dTYhFIwKdI+iFI9GlRG0aD0oqtWLsUAJFuaTFK1Df6psgtNo/8oAAAAKwGexHRCfwAAIqw5BcJ7/iQYhdCNfGuSYdydjk1zLx5VKBF60t6aH3I3ErcAAAAmAZ7GakJ/AAAiscv8VXU6hPdwXrWWJgUiG+2OdoDd3z7MAsONc+AAAABkQZrLSahBaJlMCGf//jhAAABk/PR1/3XB3of0l/kLIQYy87YlOweNzFqT1L4bMKh0AOkK60JuBurM7EunvtF4WlG7+0We1vzuyb0d2zQ4AHnVb89n4ZNTZT+qw/K+Ow5MHhn20wAAADFBnulFESwr/wAACA2gz7pIalfidcU0xoiCAf+yBQrOeo0t4rlV06gCmJ872bch8TnwAAAAKQGfCHRCfwAADS9GsfLSupFd0UR6kGKy8/580r82aO6VVJ4tOWsXPAhlAAAALQGfCmpCfwAABPSJ8ZrfEKmRnctRIY/DVKRr9bi18N3vo85Ey9gl4zwRwZregQAAAHVBmwxJqEFsmUwIb//+jLAAAEQC0OBwGzUZRlN/vXWReaozEmOy7NAWZvM5jUvAqGXsq7ZHkCN297SVMW9EKzrp2fmTAnIglyV9c/vieppXTxInn8pAw9oZ/YE1UYYgmX/tmuW1xH3Zzq3mWT+cZgJ3cL/vgqEAAABWQZswSeEKUmUwIb/+jLAAAEQRrCcHiDn6PuQGwHA3KQMEbzQwoVS1X0ZvsWyKFkmAlCzaJx+3/x7dBaJNZssbsOl8FcsNg351dmCyfLhtQaMwsP4RP3kAAAA9QZ9ORTRMK/8AABYlKzdn9CDWphkoAiYLox5oddKQ2J8cOIV5Z0shLP9BKYs2A2LW+pQjZ9xHEc1Mv9oY+AAAACkBn210Qn8AACLDF2KvXh5lj/WiWJz8Hmi9YA5qrzDAEDc3nF5NSnH/vQAAABoBn29qQn8AAAT5MA4bl1YlEiGzwpxZZtCHgwAAAIRBm3JJqEFomUwU8N/+jLAAAEQCBXk89Iv0J2BAF/gMV2Srp6oTYj1f++l8dfnyRjzENODeFxcNjlNfjuIbS2kLKiH7bS1EFGcvQaegCZ+Qi+XxuM6rSizW+PR2LPk+HfMAfrVkb0xAcLpSdDDqTTKX99lj9FameUFpRBzo2wtotHp5CUAAAAApAZ+RakJ/AAAirjEv0jLTqFE0gwVEQd115MqnZJ3L1fXsu+EWoCLTCQsAAABPQZuVSeEKUmUwIb/+jLAAAAnBwiiWQXIwuMnhvbRQvZ3dN+TLP1C7sLxRuZ3nxBAESIsTqhNyLzd0UN+VQU0Q4qtj/1Ye/T+RV3KiAgn0kQAAACZBn7NFNEwr/wAAAwMlZ/DnrGje02rzXtzWcMK8PtGGcGNVJCXgsQAAAB4Bn9RqQn8AAAT7lyEwn08d55wU7C/Y5EE/yNJrTekAAABkQZvXSahBaJlMFPDf/oywAAAaD0cHwDlwKu7sDB8etV78szwV/pUZAFK7TVOFt6ZxW0umXXzZfvx/Vhtf43jk2w6oGEFXcOb2mCxtD6/iVN/WVQhjY2nH4ljiWI1qrpU8z46jwAAAACEBn/ZqQn8AAATWRWESnISYI7mx1DT13/+FvxMAnHTXDBAAAABSQZv7SeEKUmUwIb/+jLAAAEQCBXk9CEMn1HE7N3wTVz9K1ssAHFVeSLuZ2X5J5KwtiQi9yVpFVw55zDDSmBm2Wvwp9LjEN1PjpOTUu1OdPgbOwQAAAChBnhlFNEwr/wAAFiMrtQTwaVjxVZemVEoBpX7zIdGOSiFIiVYWBk2AAAAAJgGeOHRCfwAAIsMXaIsoGexeYvqTnSN1/3ttoRZ+OIZZk8LPrfiwAAAAHQGeOmpCfwAAIr8EJxLJaZsthSBHqz83hKTssce9AAAAV0GaP0moQWiZTAhv//6MsAAARAIFvOZcOi7rCbrQeQylzv60Q2gWHUA9wVZ0SADKS/hkukaEWnw01KvmzSpjO1Gpv7UdEmIV96ZfNsKlPiea4+RLwn5TQAAAAC1Bnl1FESwr/wAAFiMrtQW5HChbDDJOVGRe1ql8jJztSYFMfXWZp/QOqPncnm0AAAAeAZ58dEJ/AAAiq/hbeBKd2/5ljtygDCEP1bN5wM8/AAAAMgGefmpCfwAAIrHMDbbwHG3o6/2RVfTUyqAkS0fLDCqbDQMkrcTlYJQubjwB1vg/ffmAAAAAb0GaY0moQWyZTAhv//6MsAAAGg9HA03BVwchMfoDrNqypR7/kNB1GzHiLgda5S1yOZBQWtUnSLPgVmQ76gljCPyA58hhr7ldpKnONhkeWo9YA9raqM7YSysZFaBopU4xAcFttgX0yuJG+i/lyWKnzQAAACpBnoFFFSwr/wAAFjCbP0d7lZ7EQ4Hfom87OG7xIK02z19m9/e5qYEmTYAAAAAxAZ6gdEJ/AAAiwxdp8FPn5grcLzbIZ2EKbP2Q4b+h2/OBN8us0thnXIwnJlkLWxfvQQAAACMBnqJqQn8AACK/BCcR76/VY4rFWX3jHNfxIKAXrYIYRYnSbQAAAGRBmqdJqEFsmUwIb//+jLAAAEQCBWpWuRq4FCAHGgvuyXzfyoXApNyxm7EnwVCeg08xGVWEEYw3TPI6I+zrA7sONOMuvXTg5ZX7/+n43E0AmLSjZQJaSaP1K5Dn7UQI3c/vh1uAAAAAJ0GexUUVLCv/AAAWI2ZAejHRyhq1nNMVy9BjQFPENKbiIjJPsgI8EAAAACMBnuR0Qn8AACLDF2EWGa8JUr99JN44/an647FTeR+aRWn70QAAACMBnuZqQn8AACK/BCaNAmR7JKwjM2idAmTxIchajK/B/TR29AAAAFpBmutJqEFsmUwIb//+jLAAAER7HiUlTW0rD2gCoE/dtqCxpTB/1BwDqgIhIAMUl5PW3x22Hqzgte6x9bL1DLA5JJLUaJ3RYuFADf8pmDU8r4070m1pMmbenW0AAAA8QZ8JRRUsK/8AABYjK7UF4zTo6elIgsfcu9nhoAchPE1H2UvN5//LgbHUKZPOsqnt0DVjQ6Kdts36v9wQAAAAKwGfKHRCfwAAIsB/pZO1TskM9Ljvq/MKdSgTXScZlT7ydGn9dAMJS3Pu1mkAAAAeAZ8qakJ/AAAivwQna1DvUkASX6C1PCgIxdnRbk2BAAAAiUGbL0moQWyZTAhv//6MsAAARABntxcy0nHBPcjk8wgQntv3O4AaUmWWFsc4oIEF5+7gcm4MOKV6fMwm29PKXvehOYxudzrXJQo8OxTaPPih5oU9fR3NcJOE2CWQR6J0fxkiMMweZp4x1tYoiZgT3b/DoY0eV4+unUULfzYNmG0qgteFhsEgye95AAAALkGfTUUVLCv/AAAH2C4QKR7RR1Uuk31mJE08ou7IAtPxcrJDYRo2G1dvFdIA44EAAAA3AZ9sdEJ/AAANN/RHmU/OvAozzisHbRxyQpJUaUU0gASmu0NySvmgb13N+GntR8fy6HZKaG6zQAAAAC0Bn25qQn8AAA00K1V9Tn+B2fKANvwF0j7iFmnhK0UxfBTC5/2n61QRxynLhUAAAACHQZtzSahBbJlMCG///oywAABEem8932XB7LP08ltWJ/bWbV1w6lGQYAJ1TTChUTrN8A4PasnqJzXvxG5/1LsAfVl4+IbSmOj9pxq4guLVsd81QJAdwzdymiShLyIABWuMMmX/zFgyb5I+b63o+OCKgUmC+j8jMEFhK7oByUlyXOteY2DCTi8hAAAAM0GfkUUVLCv/AAAVnFC2S9wuQBCvitBwgd+ZllVxhYF1LK2BEtLY6TVYmgfiJPQ2kK+mNAAAAC0Bn7B0Qn8AAA0uFZ/Xl5pWu9NiyuAWLkxwYVErzJ4yhVHHR+C106kp4dmQczAAAAAfAZ+yakJ/AAAiscENxn64dcWdJFr0zroeqS+sIDNSpwAAAI9Bm7dJqEFsmUwIb//+jLAAAEIBRtielsWv4ABbVYhfbliob4bQqvhoBzT8bXIw4A72jJ+EC6T8ltN3r7Nn//yeb9a343oa8NkQNy6m2TGwSVQkV4XKweU+Pb8Fy9WP3/+1kvU+iU+E7StNIDp9Mk5WY1v+9hdQcariLdhTzeTc3D5FIxn7aWKKE2td4tujgQAAAD1Bn9VFFSwr/wAAFZKe2OeJneoFUIbi1RdSx+w7wBn6QqbrQ3wgJPoTdfDMLhJk9+jvti+0CCi5aasAYB+jAAAALgGf9HRCfwAAIcC4+pvdeUj61gpKxf7rvOmoWE3aKtxIBYAk9wVizQiAlnhn6kAAAAAvAZ/2akJ/AAAhrjEv0dfG1Fvfne6AJC71R+jeDH3SQbinrYVKwVEJKsjEXfZAcyMAAAB8QZv7SahBbJlMCG///oywAABCJeG1VNx0hDSQAaedEOSlI7thX116zYlvhorL2ftSDVwAKwdrG1U/L4P4WQHiN2EmAXpQmFRreXmYWsROaLVEC9lUN5lk8/+oqsYbS2PIMxXiM7MwI1DIGNa8M1R0ziqmglCV0SaDVEBfQQAAADJBnhlFFSwr/wAAFZUrOXii+p6YNMSCHkDPjQ4kBR/UHXJMQC7B4LSHKsM4S6CfUC2vHAAAACcBnjh0Qn8AACHDF2ooeFm7EFbteFxJs3g1d4iMK8hPWIRrDiYR3KgAAAA6AZ46akJ/AAAM4kOdxshLm78GaA5NhEcQUIQuQSqd36sjncPtl4iobnuIAPya2usEmSgZVfgc6qMKgQAAAHJBmj9JqEFsmUwIb//+jLAAAEIA9sS33gr8MVKQ7ksAApjU4KDVlvUbwavHf6bvDVtTwINMCze0qDK0oCTNpS39o0xMd/Tck1ptks+gmKGPNNwGHzcIIo2xoeJ3YNU6wKAuZLYI9m53/vPffONd+J3ASoAAAAA3QZ5dRRUsK/8AABWSnqi0SZAiQkePs7zEQ9JM95L3zQU3Y5UYNRMZevikUKwgoH+kiiUmegujtwAAACcBnnx0Qn8AACHDF2bcZ3xVwrFpK1VEvkKe6SZvBELdrdU4MW8IE7cAAAAnAZ5+akJ/AAAhrjEvy8umejJfrRIiy6aNjtfAdZFEOmfow2g3mgPJAAAAe0GaY0moQWyZTAhv//6MsAAAQgIFeT0HWo7YIACbViJVbaAeiVmIsaePSnLWZG6hc2NRvpgCEFTArfHS8TqvVNp0UyyaTxblKzZUTiHjjeYUVgdFlQYmHT6ZuqMP6e0KL1SG1Aw8WPNa7Itkasr3MOSygn8DWQmrh8N8kwAAADBBnoFFFSwr/wAAFZMr+/M5wUx6FNVeQzUR+AKYU2lRXsO75Y+ILJq8UsiDjZ6FeSAAAAAwAZ6gdEJ/AAAhq/hcKIAn2aivy+udDzQRhYtmN710zvu9ENRUsm+5pGxZf8ZUXnUhAAAAKgGeompCfwAAIbHMAZOadyytw/o+b6onFOZsRdYiNWw8gZXkTQA+2azlZwAAAGRBmqdJqEFsmUwIb//+jLAAAEJ7HpdNOBgRnexajDEU/JafJNNXErb0HAwc2SZuK+rvEwY/LznDuoHAAl8noxHL5eBqPvn3Ho69Vqe3bF/auRekr72uIALOpGKb//e5Zme0JKO7AAAANUGexUUVLCv/AAAVkp7Y55i2OsZy0vgk0klDqhRLjyQWgBLVt3DejiQCttAJ1TxiGYRKZSpAAAAAJQGe5HRCfwAAIcC437/4v4rqO9y4rBW2c9w4RSAED/KbbIJfesEAAAAmAZ7makJ/AAAhrjEp6XSIlNZVo349SfGr1aO1S0Zzm2pP+ntRVe0AAACPQZrrSahBbJlMCG///oywAABCem8932XBnJXuzBTwAAFt24kTgebYe++NFY7lS1LO0Dw+EYQLgym8r2Oq3pCsEV+31NdVvYngHZVidLKwU6LxcLX2dbZ5tuYLFg7k2PLzyHEoTu6aOYRMi0NwcLzhpZvFtj+mzBYU57AFk3gujYcpUdExepkdEsN+CroPCx8AAAA4QZ8JRRUsK/8AABWVJuOZXGsBD3RxXTJVTaHH9gESt/B2fEbFZB95Fz9ok+we+GTLHsCnZnS/zh8AAAA2AZ8odEJ/AAAgw0cgvDiWSSEH77g03cIRPyGZAHJjMz7Tn+S/apOMIsU7dj5cF1bHW8XIxSQJAAAAIgGfKmpCfwAAIL8azlhtkHyB4cGIWq3yVVXSqTRYE+O2HTEAAAC3QZsvSahBbJlMCG///oywAABAJJOLhhYAHJ+fnLvFjGwsDIyvUqUHwDCpEaQH24kHaBXYm1Ujw7nQoVpePq209SaaDy5XFuCxaJDwq7N3FV4P2xDKPWdO/HSmP1dDQvBD7//UChAHU+vd9B/PdfobaI2SjAvcXDH4lwCf6lt/ed9LYOU0MkAO6n8b6KRUD4D6oZvaua9UVmRAAEvi+1WoxAtNASz3/8TLp+gYwDFBg8NqEJ2wX2BBAAAAOkGfTUUVLCv/AAAVC19xVklpo4sR91YgGSn3PVKSmD65vYKwf1TVaYPi5U+y73CddJE84VunQAuGQ2EAAAA4AZ9sdEJ/AAAgqc9nezQi2yNZDgVQ+qlatt9TDHX0xeNteWw8ZZmLiAEKSCCWfFAr6i+0Ctrn/ZgAAAAvAZ9uakJ/AAAgvS//dzO2Yc4BTpu7t86y9syOPZAEaS9HZESdnVfn+YUPp5pmcRYAAACHQZtzSahBbJlMCG///oywAABAEKJrEGkx/FW9dHcYXhPCvEy9u5kvLMeJNBrnIVg0VwAE05U9zNAtQWdM0Rrdt3njbWAa1rgWmbHmtA1saKd0OLflz/R4t/RFo/9HCnBHuhAYbmWhJW0KvgVDHUqM0YWpzjahVVzK3M0zuP24IozsGpP59jLhAAAAR0GfkUUVLCv/AAAVC19XOto7FrmAO0XxpRX/XMZVDIb1mArj7WBM6Mek7hQ9PhG5BgHA2f+/8tS2svF6TVf8aGhLNBS+/1G4AAAAMAGfsHRCfwAAIMC438AsAWkUcdsU/1xpgQkeyfZXZCYeIyW6vqwIt7mCzuHz3kso0wAAADIBn7JqQn8AACC9lgKKAIWpj2gakpiavzloG7ie2BOJC48IP8eHGlXlv/ciZH5zioZM+QAAAK5Bm7dJqEFsmUwIb//+jLAAAEAA9rO7mq5cza4BHx6/Rkh4DgC8VWzH8SdKMCp/R3oWs6Wc10OUNsAEOnrn9DPsIecZOZ3ljitD+gf49BExXYiSkaAKEii6DTUaSu0V3NLXW0MkZ6oO8aDd7NFjLBj4rDjektyZWtKK1ekY4uMlKoBJPDLp7ud6iz0DfTc6I80Mi+1PErqBaP9poqIZx8G65ntb/52xtk/S4op3m+cAAAAqQZ/VRRUsK/8AABULlByWDJAYnYy5KEbrfwmJWVt0akRNK5EmBy8s+QGnAAAAJwGf9HRCfwAAIMMXYq8fkgwmeEHtIQ1KE70weuqLf6+iUBfjHenPTAAAADgBn/ZqQn8AACCuMdGga2oWXUKVpgQ77xtXfgGVuRGvqyLb966iQ0LEb4XvKkvSLKd+hbRzQDe6YAAAAI5Bm/tJqEFsmUwIb//+jLAAAEB6bz3QpqFACMNHIlWVaafoXF+qULItOd/bfK060yIZf4Ke88f1FhIeeZIh6HoZNlV31xyyGLQOemuiG7HPHr8Y8kLwtk3sGkfK1qb/oWjMMJLf7VC0nC+Pe51yuEL07rGSypiHUxRjTIDwWODXMayzd8Rh4HbnPy5HzLZBAAAAOkGeGUUVLCv/AAAVBSTiXBDOIuCxvNDobcusQ4xAi66WsD0j2oyyT+opeLbbRSsAC8+ud2qHQYQx3TAAAAAiAZ44dEJ/AAAgwH+llCtk1egyf8f+qVhdc//ybMgwtbuopgAAADgBnjpqQn8AAB+5pxWPr6FGWpKF/+UBPNjqns6e7XuYrjk76jViiCtOvHd4VAB77F8nosP6N7ynpwAAAOlBmj9JqEFsmUwIb//+jLAAAD5rFEzfpaMAmb6iDZi7Jfq/fk7Z5FgUTdU0dGVrWYIU4XMY56vvHdAtALFSMrow7fjhEsDrQtmVGVBDB3K9hXDP7AIVe2y8LUi5Mb6l0kfohqO9D75I7u/DqvH4gJK2yc9Op+uR8iHkpp4A0DuRIcIzvpMAOOPiC8tOxjcOUdgKTiZUa8N4WtprSTiz4AmMkSjaC5g10It71N1GIqKfj+MOh2hXQI2X/5Jw7WzD/apNXKgqYWo5P+PEzbHoK9tXas4hP4z9FfyaSpCCKA5n65qEK+XJTQ6f2AAAAEZBnl1FFSwr/wAAFHtfYfAlCxcuR0FIymClA52p7X0lvipBCmzx0gDQMOj2AQkmToFAA+n9AcgBTFA5V3C9R1I8tHfBKcFnAAAAKwGefHRCfwAAH8jJsvSYY9uRkJS53t/Lr+j5psV+OOBiU2mSdh/Q2ydxP00AAAA8AZ5+akJ/AAAfqjP3gRNmBHkyWuOrV4FHPB7YhNVNXN4YhWhUz1/qp85kcOVFzKK+PPhlGP2FuIq/IkZ6AAAAsEGaY0moQWyZTAhv//6MsAAAPlyowbgr/D3dfgiIdiwZ2LHD/Gc2u84BSsyctOZZ5uws5hOX2W+BDoTqf2B9cGe1B9qMNWtQm/E4YWApTamPrvYOlemh3Y/0Z/aWHwBttCKPeAhfOWmaAaVGoPoEdiwS9WRsFybv/ObwYBYzne3ibMhC5fC8l6VPv2SlRH+MWCzUsyslxkmpzqxwHxgPYwAdS6/FpEBj8q97P+bYWNl5AAAAREGegUUVLCv/AAAUci8I+sRpHaeDGV/vE0UEXu0qBW7UwfBkHOShRHTqwdp7IKmZHcU29mgTmAA8OpjhQAryC2fP49mAAAAANAGeoHRCfwAAH8jKWRQrtro98nXS6RD9CD7YbCAUBc8G5Vr0yDESCcAw+ug08HcTJcTlACEAAAA6AZ6iakJ/AAAfuO02vNI1Vo0gkIYa75yJxISBGxfBJ1ukj9MXu1YNrXy8EWZMzMeM4BPfGT0IAJqrewAAAEpBmqVJqEFsmUwUTDf//oywAAA+vCc9w2U8niqFumpqLPbLJfG4+Ggb/Ae2F7NrcCbKUGMPEQIfY6OBh14GWeiOVpDWI8hTDArGQAAAAD0BnsRqQn8AAB+8i7AeY8IygBJd9CIspg4DbxoC/M2aLTfa5cjvBxyNtByuKpTZPRhwa79ct0A+fI7eQBKQAAAAr0GayUnhClJlMCG//oywAAA8/JO6bhACq12MABWnFsipDmtW55I4wZXcej7mlry6QNmc9V45isdv2Dj1QqkbVXmB+8DEMQP4NJ5nFMN3n8A7kinO1LiW+6Vv1HXqlIs/uFJCgcLuvpwe0TsCFmsZ1LOetsCutygh717tqse/iEbbO5odMFW75OuGWdjwc+l1oLCe+5kok6gHETIACSxY7bzpw/rysA1Ki3CCQgfDH4UAAAA8QZ7nRTRMK/8AABPiLx7ZkIbOFdmofaKJmNWgVs0qRNBe2L9jVhx8vP+DinrUoXVdZbSbr+NCderX+W+IAAAAOgGfBnRCfwAAHwbpB2rKQVAVzQWR4ZlNx/132qJg4rlUhHaUYePFfwgBKRv919ASpTNT1tVxQcc8e2EAAAA1AZ8IakJ/AAAfCO2AckmSZ8Jb8Sg+E5ulGoLV/Y+Sdcphjl/PHpzAKV7eMo8pfu8kU3eAd8EAAACnQZsNSahBaJlMCG///oywAAA9CxW2uTzYcYpEaICOlY8jyCugnvvnKXZ1ziViBDh08WRuPi5SQcCDGvYANVAQQQNcbpjne41c3f9wmnMNGGVplJKrRPf0MbeD7oPkvkNJv4YIvlyRsSCqhinGc4H5rg9l2EyVQZ5NChowEBIg5l4Z0ZsHKGt1a3vn16Z2P1/d2N6NVAQEKaMNwBzfCqIe4mtHfNVPzr8AAABEQZ8rRREsK/8AABPiLvQ74xxyKuo4eaoqMmcXfdGdt4/O6epYY5mEuBEUxwjznw56vjyujgBTB9rkmGwqwS7WUWyZjjMAAAArAZ9KdEJ/AAAfBualdl+qG0au79anLJ+Bd5kUlHoOXQvPeb2Lt/OR7AzZgQAAACoBn0xqQn8AAB8I7Ta9CGDs9dc/O8IauiN5+sLQzridjvjDlSmC/5w+q9MAAACyQZtRSahBbJlMCG///oywAAA9XCc8JAap2fJwAb3hMbRQtxBJ2FsKAYBI+VDLgXGSpXqOy5vs7x9vE2l2GrKh6frCO7PN4OK8dy7n/WAygYGP9GqqeXFnHD00dDXIL+Xc/yIWeWtzR/2hqm/V33HUy8EbRoZet9CQ00ZcsotIPTYwcmA12Tac8aI9xn1HEmGPAIoR3Mq2Ni0ur6PxP6Fbnf2NhBtktxsDE7Y6SX+j/Y6mQAAAADxBn29FFSwr/wAAE+UlN6BW8ZQ8PF6qFqLebVkOqextktPN9CckdajKdfcrywUCkoNSUIEuqEAVFdqMpSoAAAApAZ+OdEJ/AAAfCHqw8oc0MaD/xRZoG6FYht6QXTWWgGZejpL45xcPeUEAAAAvAZ+QakJ/AAAeWOzacN88SBC89A8AYA0F1bmsirk76LW1ZwhPS7gAE1B1ZdWkYNwAAACGQZuTSahBbJlMFEw3//6MsAAAO5xtDZzQTM+GuqWnvdhvCdfIgAIiYNGD7dBOgPuWMsDceqZ/rkoQnj31KSkepUymeh8FgesjRy4sei9lnghH3UK3Lgmv+d3K4XLsncoUCuHyFW73iI3zk+Dz9IJSqmQ+YLIAEkLcT4dZYTDbNCucCChxdXAAAAAkAZ+yakJ/AAAeZmNKxGdfVA4cBAgtBTUXcFcfJfm+/ccMtnFVAAAAwEGbt0nhClJlMCG//oywAAA7/Cc91fNCi92HVUeXO6Y1dqAIsmz3nUH0R5ludaltdYnCq4J/S3bvLo+io3OTo6rWDTgsZdklNeoo8tOQFn3qADjzhH6rPLpVcLCi5VNpypHRvb/9NVR/WB4DlVhi88fgvKITOyTHMcHwpw8qpCddm/rHiMjhjytiZrbP/pbEOwRan4IdTyz17n09vdpxhJg9Pbe2ScbcvUWNdoXGjOZBCzSa0qtLgXx9s/p9EGyEKwAAAFRBn9VFNEwr/wAAE1fxL0QRxnntpY+9nei1WGaa1mgjHMl3a4EM26oVgNfz7LKHJ2sPZaNuvgfF6Js34rKcJ9t3nTmopmHzelGdl9lovs1abnQudMEAAAAuAZ/0dEJ/AAAeZ0P8kumPFh3h5hv4iSJtLQNjHa6x3/geJv+8dewwBfiybj2PmAAAADYBn/ZqQn8AAB22Y2xLBFBJSQIpRszUTEil3JpHp5yhVyXQxVESUGJhdDSBmsDtYN1yb5J1nzAAAADAQZv7SahBaJlMCG///oywAAA6nIq6/SMfuNxBFTqf8ywL92aTRnd1cXqN0ZDFLvODEctvG2h/GENImdE5WDaB7dZfmzPqhGg6Lu22zcfATrgv3yF+I4rRKAsIn0qWY0hN6LWwyBwD23tuLMbXiw4aaxrkNSNrdZTNFcnKr6noe1V1bej/BP1jK7IpayWTtD7IqEHN+Gz9mLMxBka4Pf3jdNiY8DxJKQg9BF8A8wBeD1TfRPq0mu4WB/6ITXhPYoBFAAAAPkGeGUURLCv/AAAS1e+TDYlNXTrLHk4s3FrNT+k1W7+Yc8ykEDrmYzZPuiA5FYaEXovJiwuxUnKttwdBWu6AAAAAKwGeOHRCfwAAHbgsoqSu1sshgAPxyP7qIEXCjKkVLmBQ7aOEU9FQ73DjxT4AAAApAZ46akJ/AAAdvkhdvYaqfNAuItxL1wz2ftgClvm+RDma2dVhihT9jsEAAACIQZo9SahBbJlMFEw3//6MsAAAOp62ZOZTKK7t4nXdVKzjSAEy2aSOCIXWzQrD9/I2AghXFaf+zfhrTUlaSNPnS2xKFKR5YVBcVLMhg/5v4AbGf6I29Ryd5ynOfNaVj57KjiKyy6FeeMZ9cpFMpN1JHPTahIx2kjAmK+Ka5kpE1HD0vyiJv8MUwAAAADYBnlxqQn8AAB2r9qfo1cRUyFAII5UgbUnu956EkIrCQgIFtDsJdiFURv7iUuZ7lruqcnS6f4EAAAChQZpBSeEKUmUwIZ/+OEAAAN3v/Ot5tYcSAMSPDhoBWVOw76Hr3OWgm4+l39rJp76KWltvebCZGAXS44C1FXvjn/iqyYPV07BU8q79YmD1gOq8jBT0GTdkXEOdIZ5hh+tWco5TNEb/6SbaCf08qsp4f/vXleTmIa+vyuka1boP5+4AP9JFr+U2nxNzd51Lp74lcxQ4byvF4h7vm3ZXNGa1uVEAAAA5QZ5/RTRMK/8AABJV+C+Kt8cWmruQW6jsXzdXc9wqB+5I7Uu9U+S81ImOO/OG+4xCojg74C1q0P/bAAAAOgGennRCfwAAHQduVU6b55KIL3mC2BDdoDrkIHO/owAC2O6KRZOwM5gEQDLZT6qcroHNk3/PxkyxAKkAAAAxAZ6AakJ/AAAc+AX18OdIrkAE3rUpqB2Q5FMEe5IULcBM/EYPCdoABM1IKOmg2dsX3AAAAKFBmoNJqEFomUwU8N/+jLAAADegNCGF4wAr9S/I415K7x0DW9OCtZCVR44vKiK9GqH3T1Cu3d3nlUtzItaIVQ6At6u+uz6Vmw7DHR5wAfOktP/vCj018DXK9Jpbp1BCrnug8fhBLzRgxSV9/L8LOujGc0jfNhXfz/zTBxthoWMIUbbh+ni1O9OI9l2sv34ZY5LAGrtHKhADwkPrBFE3H7fnIQAAAD0BnqJqQn8AABxIBhuzN1WqQByZcpOhHkfN+9gSEEEKVcgdyOPMPqxlVOjfvyBKXSMrl78aPGR9QjyiqO5TAAAAyUGap0nhClJlMCF//fEAAAMCDdE1mEcgRABYbKTEbwSNMxftyuQN/hvfVRqmxjPiFdyY/uaLatZ+X7lCXHbxFcycTFoQ/M+tiiVuoI/8fs15uu2JZ1a5541s7F2pC0LDlfuV2UGlQHOBWk7rxm+vvYMh8s2wd9D9MVViWRGbgi+3TXM1yTcyeMlAF0M7kaB7cCgwBMPA1naG4b/IxH+KumlS6u05trP16V3/rKGQkwyswlV8UPpLmtV/KGoip1w4eht76vOfsOZYgAAAAExBnsVFNEwr/wAAEd1E8zaUdr7q8MRsFuCLmfpjz0gMcnjlt5ic/4OFIvMqwFmJ5F9/DU+ABSGrbAXy797xSXTLgOjzzjaIHn3XJGpgAAAALwGe5HRCfwAAHFduU4RTmB2KIxTo89xoLSVtGfQwu6C0Kh0bEMWlWrIZ+v9/mksHAAAANQGe5mpCfwAAHEym5TWNUZanwLjxOoFimiWIJIPPZyFcIV6aLrAq5YuFvDYLejYkI1gSZgqAAAAAckGa6EmoQWiZTAhn//44QAAA0stu8HdzieZSI9E3BM8glwAFpPp7q7PvECiBfYrQKdiWKXiK3ZOh4lS3/ULlII6BL2Mocf0kX9bi8ND0C5DsEuQggJ7Mb8vOdoyn1Y8nA2iE/fECbNYFTG1d8cvuZJzfyQAAAG5BmwlJ4QpSZTAhn/44QAAA0pylUzu/gL8Sf+JKe1oH9tvG9F0blPv4cwdACxWT/4KcAgQlh01VtPtMD1nbkrcIZVucfxjhCv2XKPavRGJeurj7Tdo/GVQ1OAqrkmWSnc2+hhW9wBJ6p92fhxYngAAAAFNBmy1J4Q6JlMCE//yEAAAMn6IsJ+P6j4CCH7KU6ZDefzfJg5LhUuATXoXfc17Ba89/0tpAw5iZcLxs4Te41qF+mV7eqXA3F1is3155R4YwVZP1WQAAAFVBn0tFETwr/wAAEVf+mVHPxL8kwUjzTuRc3OmSvE4SvgqqFPARfd/jf2HDEzIgqc6oX9nRHI4ALZrFvMHZ4PKfwRaQbwveKoXbx3MY56EG0b5smxmlAAAANQGfanRCfwAAG5wRB44aK9zO8l1jcMK9gaoXp7ig2c4OZUPfSJ/jgDQbeHzIZZ5E5BrsIHclAAAARgGfbGpCfwAAGweZ1qoAxx8ddBqNw5GD2SG7TPBkh8QCjm+TF08qOHTzs/jBanSDx1z5Wc0kJ4ZuuJKgh5ISY/Je9YtnNIEAABa9bW9vdgAAAGxtdmhkAAAAAAAAAAAAAAAAAAAD6AAANzYAAQAAAQAAAAAAAAAAAAAAAAEAAAAAAAAAAAAAAAAAAAABAAAAAAAAAAAAAAAAAABAAAAAAAAAAAAAAAAAAAAAAAAAAAAAAAAAAAAAAAAAAgAAFed0cmFrAAAAXHRraGQAAAADAAAAAAAAAAAAAAABAAAAAAAANzYAAAAAAAAAAAAAAAAAAAAAAAEAAAAAAAAAAAAAAAAAAAABAAAAAAAAAAAAAAAAAABAAAAAAmAAAAGQAAAAAAAkZWR0cwAAABxlbHN0AAAAAAAAAAEAADc2AAAEAAABAAAAABVfbWRpYQAAACBtZGhkAAAAAAAAAAAAAAAAAAA8AAADUABVxAAAAAAALWhkbHIAAAAAAAAAAHZpZGUAAAAAAAAAAAAAAABWaWRlb0hhbmRsZXIAAAAVCm1pbmYAAAAUdm1oZAAAAAEAAAAAAAAAAAAAACRkaW5mAAAAHGRyZWYAAAAAAAAAAQAAAAx1cmwgAAAAAQAAFMpzdGJsAAAAlnN0c2QAAAAAAAAAAQAAAIZhdmMxAAAAAAAAAAEAAAAAAAAAAAAAAAAAAAAAAmABkABIAAAASAAAAAAAAAABAAAAAAAAAAAAAAAAAAAAAAAAAAAAAAAAAAAAAAAAAAAAGP//AAAAMGF2Y0MBZAAe/+EAGGdkAB6s2UCYM6EAAAMAAQAAAwA8DxYtlgEABWjr5yyLAAAAGHN0dHMAAAAAAAAAAQAAAagAAAIAAAAAGHN0c3MAAAAAAAAAAgAAAAEAAAD7AAANGGN0dHMAAAAAAAABoQAAAAEAAAQAAAAAAQAACgAAAAABAAAEAAAAAAEAAAAAAAAAAQAAAgAAAAABAAAKAAAAAAEAAAQAAAAAAQAAAAAAAAABAAACAAAAAAEAAAoAAAAAAQAABAAAAAABAAAAAAAAAAEAAAIAAAAAAQAACgAAAAABAAAEAAAAAAEAAAAAAAAAAQAAAgAAAAABAAAKAAAAAAEAAAQAAAAAAQAAAAAAAAABAAACAAAAAAEAAAoAAAAAAQAABAAAAAABAAAAAAAAAAEAAAIAAAAAAQAACgAAAAABAAAEAAAAAAEAAAAAAAAAAQAAAgAAAAABAAAKAAAAAAEAAAQAAAAAAQAAAAAAAAABAAACAAAAAAEAAAoAAAAAAQAABAAAAAABAAAAAAAAAAEAAAIAAAAAAQAACgAAAAABAAAEAAAAAAEAAAAAAAAAAQAAAgAAAAABAAAKAAAAAAEAAAQAAAAAAQAAAAAAAAABAAACAAAAAAEAAAoAAAAAAQAABAAAAAABAAAAAAAAAAEAAAIAAAAAAQAACgAAAAABAAAEAAAAAAEAAAAAAAAAAQAAAgAAAAABAAAKAAAAAAEAAAQAAAAAAQAAAAAAAAABAAACAAAAAAEAAAoAAAAAAQAABAAAAAABAAAAAAAAAAEAAAIAAAAAAQAACgAAAAABAAAEAAAAAAEAAAAAAAAAAQAAAgAAAAABAAAKAAAAAAEAAAQAAAAAAQAAAAAAAAABAAACAAAAAAEAAAoAAAAAAQAABAAAAAABAAAAAAAAAAEAAAIAAAAAAQAACgAAAAABAAAEAAAAAAEAAAAAAAAAAQAAAgAAAAABAAAKAAAAAAEAAAQAAAAAAQAAAAAAAAABAAACAAAAAAEAAAoAAAAAAQAABAAAAAABAAAAAAAAAAEAAAIAAAAAAQAACgAAAAABAAAEAAAAAAEAAAAAAAAAAQAAAgAAAAABAAAKAAAAAAEAAAQAAAAAAQAAAAAAAAABAAACAAAAAAEAAAoAAAAAAQAABAAAAAABAAAAAAAAAAEAAAIAAAAAAQAACgAAAAABAAAEAAAAAAEAAAAAAAAAAQAAAgAAAAABAAAKAAAAAAEAAAQAAAAAAQAAAAAAAAABAAACAAAAAAEAAAoAAAAAAQAABAAAAAABAAAAAAAAAAEAAAIAAAAAAQAACgAAAAABAAAEAAAAAAEAAAAAAAAAAQAAAgAAAAABAAAKAAAAAAEAAAQAAAAAAQAAAAAAAAABAAACAAAAAAEAAAoAAAAAAQAABAAAAAABAAAAAAAAAAEAAAIAAAAAAQAACgAAAAABAAAEAAAAAAEAAAAAAAAAAQAAAgAAAAABAAAKAAAAAAEAAAQAAAAAAQAAAAAAAAABAAACAAAAAAEAAAoAAAAAAQAABAAAAAABAAAAAAAAAAEAAAIAAAAAAQAACgAAAAABAAAEAAAAAAEAAAAAAAAAAQAAAgAAAAABAAAKAAAAAAEAAAQAAAAAAQAAAAAAAAABAAACAAAAAAEAAAoAAAAAAQAABAAAAAABAAAAAAAAAAEAAAIAAAAAAQAACgAAAAABAAAEAAAAAAEAAAAAAAAAAQAAAgAAAAABAAAGAAAAAAEAAAIAAAAAAQAACgAAAAABAAAEAAAAAAEAAAAAAAAAAQAAAgAAAAABAAAGAAAAAAEAAAIAAAAAAQAACgAAAAABAAAEAAAAAAEAAAAAAAAAAQAAAgAAAAABAAAKAAAAAAEAAAQAAAAAAQAAAAAAAAABAAACAAAAAAEAAAoAAAAAAQAABAAAAAABAAAAAAAAAAEAAAIAAAAAAQAACgAAAAABAAAEAAAAAAEAAAAAAAAAAQAAAgAAAAABAAAKAAAAAAEAAAQAAAAAAQAAAAAAAAABAAACAAAAAAEAAAoAAAAAAQAABAAAAAABAAAAAAAAAAEAAAIAAAAAAQAACgAAAAABAAAEAAAAAAEAAAAAAAAAAQAAAgAAAAABAAAKAAAAAAEAAAQAAAAAAQAAAAAAAAABAAACAAAAAAEAAAoAAAAAAQAABAAAAAABAAAAAAAAAAEAAAIAAAAAAQAACgAAAAABAAAEAAAAAAEAAAAAAAAAAQAAAgAAAAABAAAKAAAAAAEAAAQAAAAAAQAAAAAAAAABAAACAAAAAAEAAAoAAAAAAQAABAAAAAABAAAAAAAAAAEAAAIAAAAAAQAACgAAAAABAAAEAAAAAAEAAAAAAAAAAQAAAgAAAAABAAAIAAAAAAIAAAIAAAAAAQAACgAAAAABAAAEAAAAAAEAAAAAAAAAAQAAAgAAAAABAAAIAAAAAAIAAAIAAAAAAQAACgAAAAABAAAEAAAAAAEAAAAAAAAAAQAAAgAAAAABAAAGAAAAAAEAAAIAAAAAAQAACgAAAAABAAAEAAAAAAEAAAAAAAAAAQAAAgAAAAABAAAKAAAAAAEAAAQAAAAAAQAAAAAAAAABAAACAAAAAAEAAAgAAAAAAgAAAgAAAAABAAAIAAAAAAIAAAIAAAAAAQAACgAAAAABAAAEAAAAAAEAAAAAAAAAAQAAAgAAAAABAAAKAAAAAAEAAAQAAAAAAQAAAAAAAAABAAACAAAAAAEAAAgAAAAAAgAAAgAAAAABAAAEAAAAAAEAAAoAAAAAAQAABAAAAAABAAAAAAAAAAEAAAIAAAAAAQAACgAAAAABAAAEAAAAAAEAAAAAAAAAAQAAAgAAAAABAAAKAAAAAAEAAAQAAAAAAQAAAAAAAAABAAACAAAAAAEAAAoAAAAAAQAABAAAAAABAAAAAAAAAAEAAAIAAAAAAQAABAAAAAABAAAKAAAAAAEAAAQAAAAAAQAAAAAAAAABAAACAAAAAAEAAAQAAAAAAQAACgAAAAABAAAEAAAAAAEAAAAAAAAAAQAAAgAAAAABAAAKAAAAAAEAAAQAAAAAAQAAAAAAAAABAAACAAAAAAEAAAoAAAAAAQAABAAAAAABAAAAAAAAAAEAAAIAAAAAAQAABAAAAAABAAAKAAAAAAEAAAQAAAAAAQAAAAAAAAABAAACAAAAAAEAAAoAAAAAAQAABAAAAAABAAAAAAAAAAEAAAIAAAAAAQAABAAAAAABAAAKAAAAAAEAAAQAAAAAAQAAAAAAAAABAAACAAAAAAEAAAYAAAAAAQAAAgAAAAABAAAIAAAAAAIAAAIAAAAAAQAABgAAAAABAAACAAAAAAEAAAoAAAAAAQAABAAAAAABAAAAAAAAAAEAAAIAAAAAAQAACgAAAAABAAAEAAAAAAEAAAAAAAAAAQAAAgAAAAABAAAKAAAAAAEAAAQAAAAAAQAAAAAAAAABAAACAAAAAAEAAAoAAAAAAQAABAAAAAABAAAAAAAAAAEAAAIAAAAAAQAACgAAAAABAAAEAAAAAAEAAAAAAAAAAQAAAgAAAAABAAAKAAAAAAEAAAQAAAAAAQAAAAAAAAABAAACAAAAAAEAAAoAAAAAAQAABAAAAAABAAAAAAAAAAEAAAIAAAAAAQAACgAAAAABAAAEAAAAAAEAAAAAAAAAAQAAAgAAAAABAAAKAAAAAAEAAAQAAAAAAQAAAAAAAAABAAACAAAAAAEAAAoAAAAAAQAABAAAAAABAAAAAAAAAAEAAAIAAAAAAQAACgAAAAABAAAEAAAAAAEAAAAAAAAAAQAAAgAAAAABAAAKAAAAAAEAAAQAAAAAAQAAAAAAAAABAAACAAAAAAEAAAoAAAAAAQAABAAAAAABAAAAAAAAAAEAAAIAAAAAAQAACgAAAAABAAAEAAAAAAEAAAAAAAAAAQAAAgAAAAABAAAKAAAAAAEAAAQAAAAAAQAAAAAAAAABAAACAAAAAAEAAAoAAAAAAQAABAAAAAABAAAAAAAAAAEAAAIAAAAAAQAACgAAAAABAAAEAAAAAAEAAAAAAAAAAQAAAgAAAAABAAAKAAAAAAEAAAQAAAAAAQAAAAAAAAABAAACAAAAAAEAAAoAAAAAAQAABAAAAAABAAAAAAAAAAEAAAIAAAAAAQAABgAAAAABAAACAAAAAAEAAAoAAAAAAQAABAAAAAABAAAAAAAAAAEAAAIAAAAAAQAACgAAAAABAAAEAAAAAAEAAAAAAAAAAQAAAgAAAAABAAAKAAAAAAEAAAQAAAAAAQAAAAAAAAABAAACAAAAAAEAAAYAAAAAAQAAAgAAAAABAAAKAAAAAAEAAAQAAAAAAQAAAAAAAAABAAACAAAAAAEAAAoAAAAAAQAABAAAAAABAAAAAAAAAAEAAAIAAAAAAQAABgAAAAABAAACAAAAAAEAAAoAAAAAAQAABAAAAAABAAAAAAAAAAEAAAIAAAAAAQAABgAAAAABAAACAAAAAAEAAAoAAAAAAQAABAAAAAABAAAAAAAAAAEAAAIAAAAAAgAABAAAAAABAAAKAAAAAAEAAAQAAAAAAQAAAAAAAAABAAACAAAAABxzdHNjAAAAAAAAAAEAAAABAAABqAAAAAEAAAa0c3RzegAAAAAAAAAAAAABqAAABOsAAABpAAAAOQAAACEAAAA5AAAAPQAAAEcAAAAhAAAAHwAAAEgAAABFAAAAJwAAACUAAABsAAAAKwAAACUAAAAfAAAAQQAAACQAAAAUAAAAIAAAAEoAAAAkAAAAEgAAAB8AAABVAAAAJAAAABIAAAAgAAAAPAAAACMAAAASAAAALQAAAFwAAAA+AAAAIgAAAC4AAACMAAAAQgAAACoAAAAzAAAAXQAAADMAAAAkAAAANwAAAIcAAAAuAAAAJwAAACEAAABTAAAANQAAAB4AAAA/AAAAUQAAACUAAAAvAAAAFQAAAGgAAAAsAAAAMgAAAC8AAABeAAAAKAAAACAAAAAtAAAARgAAADkAAAAfAAAAJgAAABsAAABOAAAALAAAAC4AAAB0AAAALwAAADIAAAAyAAAAQQAAAC4AAAAVAAAAKwAAADoAAAA9AAAAIwAAADAAAABSAAAAIgAAAC4AAAASAAAAbAAAADQAAAAxAAAALwAAADgAAAAlAAAAHwAAAC8AAABsAAAAMQAAADEAAAA5AAAAdgAAADgAAAAtAAAAMQAAAHQAAABCAAAAIwAAAEMAAACKAAAAMQAAADEAAAAwAAAAWwAAADQAAAAhAAAAJQAAADcAAABAAAAAHwAAACAAAABQAAAAIQAAACAAAAASAAAAYQAAAC4AAAAeAAAAHQAAAEIAAAAkAAAAEgAAACoAAABKAAAAJAAAABIAAAAnAAAAWwAAACwAAAAcAAAAJAAAAEYAAAAjAAAAEgAAADEAAAA/AAAAOgAAACUAAAAgAAAAZwAAACoAAABUAAAAXAAAADAAAAAoAAAASwAAACUAAAAdAAAANAAAACcAAAAmAAAASgAAACsAAAAnAAAAFAAAAIcAAAArAAAAKAAAADAAAABIAAAAOwAAAB4AAAAsAAAAVgAAACQAAAASAAAAHwAAAGAAAAAuAAAAGwAAACUAAAA6AAAAJQAAABQAAAAwAAAAYgAAADAAAAAiAAAALwAAAHcAAAA1AAAAKgAAADIAAABZAAAAQAAAACEAAAA0AAAAWQAAAC0AAAAfAAAALgAAAEUAAAA/AAAAIQAAAC0AAABmAAAAKAAAAC4AAAASAAAAVgAAADEAAAAeAAAAiAAAACUAAAAxAAAAGAAAAEUAAAA9AAAAKgAAAFEAAAAlAAAAIgAAABUAAAAzAAAALgAAAEUAAAA1AAAAJAAAACgAAABAAAAAKAAAACgAAAAuAAAAUAAAACwAAAAgAAAAJgAAAC4AAAA0AAAAbAAAACoAAAAyAAAAGwAAAKkAAAA2AAAALgAAACAAAAB2AAAAJgAAAC0AAAJAAAAAcgAAACMAAAAvAAAAOwAAAFsAAAAwAAAAMgAAACkAAABqAAAAOgAAACgAAAAeAAAAVQAAADsAAAAyAAAAIgAAADsAAABzAAAAOQAAADIAAAAeAAAAbgAAAFAAAAAlAAAALgAAABMAAACRAAAANAAAADIAAAAjAAAAHwAAAEAAAAA5AAAAIgAAAGUAAADDAAAAPgAAAC8AAAAqAAAAaAAAADUAAAAtAAAAMQAAAHkAAABaAAAAQQAAAC0AAAAeAAAAiAAAAC0AAABTAAAAKgAAACIAAABoAAAAJQAAAFYAAAAsAAAAKgAAACEAAABbAAAAMQAAACIAAAA2AAAAcwAAAC4AAAA1AAAAJwAAAGgAAAArAAAAJwAAACcAAABeAAAAQAAAAC8AAAAiAAAAjQAAADIAAAA7AAAAMQAAAIsAAAA3AAAAMQAAACMAAACTAAAAQQAAADIAAAAzAAAAgAAAADYAAAArAAAAPgAAAHYAAAA7AAAAKwAAACsAAAB/AAAANAAAADQAAAAuAAAAaAAAADkAAAApAAAAKgAAAJMAAAA8AAAAOgAAACYAAAC7AAAAPgAAADwAAAAzAAAAiwAAAEsAAAA0AAAANgAAALIAAAAuAAAAKwAAADwAAACSAAAAPgAAACYAAAA8AAAA7QAAAEoAAAAvAAAAQAAAALQAAABIAAAAOAAAAD4AAABOAAAAQQAAALMAAABAAAAAPgAAADkAAACrAAAASAAAAC8AAAAuAAAAtgAAAEAAAAAtAAAAMwAAAIoAAAAoAAAAxAAAAFgAAAAyAAAAOgAAAMQAAABCAAAALwAAAC0AAACMAAAAOgAAAKUAAAA9AAAAPgAAADUAAAClAAAAQQAAAM0AAABQAAAAMwAAADkAAAB2AAAAcgAAAFcAAABZAAAAOQAAAEoAAAAUc3RjbwAAAAAAAAABAAAAMAAAAGJ1ZHRhAAAAWm1ldGEAAAAAAAAAIWhkbHIAAAAAAAAAAG1kaXJhcHBsAAAAAAAAAAAAAAAALWlsc3QAAAAlqXRvbwAAAB1kYXRhAAAAAQAAAABMYXZmNTguMjkuMTAw\" type=\"video/mp4\">\n",
              "    Your browser does not support the video tag.\n",
              "    </video>"
            ],
            "text/plain": [
              "<IPython.core.display.HTML object>"
            ]
          },
          "execution_count": 196,
          "metadata": {},
          "output_type": "execute_result"
        }
      ],
      "source": [
        "# Render trained model\n",
        "\n",
        "create_policy_eval_video(env, lambda s: greedy_policy(q_network, s), \"trained_agent\")"
      ]
    },
    {
      "attachments": {},
      "cell_type": "markdown",
      "metadata": {},
      "source": [
        "## NOTE :\n",
        "I dont know why th evideo is not shown when i download the notebook from colab. I have put the video in the zip folder of the solutions"
      ]
    }
  ],
  "metadata": {
    "accelerator": "GPU",
    "colab": {
      "provenance": []
    },
    "gpuClass": "standard",
    "kernelspec": {
      "display_name": "Python 3",
      "name": "python3"
    },
    "language_info": {
      "name": "python"
    }
  },
  "nbformat": 4,
  "nbformat_minor": 0
}
