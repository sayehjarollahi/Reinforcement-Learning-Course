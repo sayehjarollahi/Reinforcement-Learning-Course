{
  "cells": [
    {
      "cell_type": "markdown",
      "metadata": {
        "cell_id": "96a1be8a2e9f4a1980fdbe0fa0e738ce",
        "deepnote_cell_type": "markdown",
        "id": "wbp3El5AvgiQ"
      },
      "source": [
        "# Monte-carlo Tree Search\n",
        "\n",
        "\n",
        "In this notebook, we'll implement a MCTS planning and use it to solve a Gym env.\n",
        "\n",
        "![image.png](https://i.postimg.cc/6QmwnjPS/image.png)"
      ]
    },
    {
      "cell_type": "markdown",
      "metadata": {
        "cell_id": "964899ece4104376be22f5b951e5f420",
        "deepnote_cell_type": "markdown",
        "id": "gIxrIpKAvgiY"
      },
      "source": [
        "__How it works?__\n",
        "We just start with an empty tree and expand it. There are several common procedures.\n",
        "\n",
        "__1) Selection__\n",
        "Starting from the root, recursively select the node that corresponds to the tree policy.  \n",
        "\n",
        "There are several options for tree policies, which we saw earlier as exploration strategies: epsilon-greedy, Thomson sampling, UCB-1. It was shown that in MCTS, UCB-1 achieves a good result. Further, we will consider the one, but you can try to use others.\n",
        "\n",
        "Following the UCB-1 tree policy, we will choose an action that, on one hand, we expect to have the highest return, and on the other hand, we haven't explored much.\n",
        "\n",
        "$$\n",
        "\\DeclareMathOperator*{\\argmax}{arg\\,max}\n",
        "$$\n",
        "\n",
        "$$\n",
        "\\dot{a} = \\argmax_{a} \\dot{Q}(s, a)\n",
        "$$\n",
        "\n",
        "$$\n",
        "\\dot{Q}(s, a) = Q(s, a) + C_p \\sqrt{\\frac{2 \\log {N}}{n_a}}\n",
        "$$\n",
        "\n",
        "where: \n",
        "- $N$ - number of times we have visited state $s$,\n",
        "- $n_a$ - number of times we have taken action $a$,\n",
        "- $C_p$ - exploration balance parameter, which is performed between exploration and exploitation. \n",
        "\n",
        "Using Hoeffding inequality for rewards $R \\in [0,1]$ it can be shown that optimal $C_p = 1/\\sqrt{2}$. For rewards outside this range, the parameter should be tuned. We'll be using 10, but you can experiment with other values.\n",
        "\n",
        "__2) Expansion__\n",
        "After the selection procedure, we can achieve a leaf node or node in which we don't complete actions. In this case, we expand the tree by feasible actions and get new state nodes. \n",
        "\n",
        "__3) Simulation__\n",
        "How we can estimate node Q-values? The idea is to estimate action values for a given _rollout policy_ by averaging the return of many simulated trajectories from the current node. Simply, we can play with random or some special policy or use some model that can estimate it.\n",
        "\n",
        "__4) Backpropagation__\n",
        "The reward of the last simulation is backed up through the traversed nodes and propagates Q-value estimations, upwards to the root.\n",
        "\n",
        "$$\n",
        "Q({\\text{parent}}, a) = r + \\gamma \\cdot Q({\\text{child}}, a)\n",
        "$$"
      ]
    },
    {
      "cell_type": "code",
      "source": [
        "!pip install setuptools==65.5.0\n",
        "!pip install gym==0.21.0\n",
        "!pip install pyglet==1.5.11\n",
        "!apt install xvfb -y\n",
        "!pip install pyvirtualdisplay\n",
        "!apt-get install python-opengl -y\n",
        "\n",
        "from pyvirtualdisplay import Display\n",
        "Display().start()\n",
        "import sys, os\n",
        "import numpy as np\n",
        "import matplotlib.pyplot as plt\n",
        "%matplotlib inline\n",
        "if type(os.environ.get(\"DISPLAY\")) is not str or len(os.environ.get(\"DISPLAY\")) == 0:\n",
        "    !bash ../xvfb start\n",
        "    os.environ['DISPLAY'] = ':1'"
      ],
      "metadata": {
        "colab": {
          "base_uri": "https://localhost:8080/"
        },
        "id": "QS8o12JN12Xn",
        "outputId": "d09f22d1-a843-4d1b-c4ee-2739d9b9fad9"
      },
      "execution_count": 1,
      "outputs": [
        {
          "output_type": "stream",
          "name": "stdout",
          "text": [
            "Looking in indexes: https://pypi.org/simple, https://us-python.pkg.dev/colab-wheels/public/simple/\n",
            "Collecting setuptools==65.5.0\n",
            "  Downloading setuptools-65.5.0-py3-none-any.whl (1.2 MB)\n",
            "\u001b[2K     \u001b[90m━━━━━━━━━━━━━━━━━━━━━━━━━━━━━━━━━━━━━━━━\u001b[0m \u001b[32m1.2/1.2 MB\u001b[0m \u001b[31m20.6 MB/s\u001b[0m eta \u001b[36m0:00:00\u001b[0m\n",
            "\u001b[?25hInstalling collected packages: setuptools\n",
            "  Attempting uninstall: setuptools\n",
            "    Found existing installation: setuptools 67.7.2\n",
            "    Uninstalling setuptools-67.7.2:\n",
            "      Successfully uninstalled setuptools-67.7.2\n",
            "\u001b[31mERROR: pip's dependency resolver does not currently take into account all the packages that are installed. This behaviour is the source of the following dependency conflicts.\n",
            "ipython 7.34.0 requires jedi>=0.16, which is not installed.\n",
            "cvxpy 1.3.1 requires setuptools>65.5.1, but you have setuptools 65.5.0 which is incompatible.\u001b[0m\u001b[31m\n",
            "\u001b[0mSuccessfully installed setuptools-65.5.0\n",
            "Looking in indexes: https://pypi.org/simple, https://us-python.pkg.dev/colab-wheels/public/simple/\n",
            "Collecting gym==0.21.0\n",
            "  Downloading gym-0.21.0.tar.gz (1.5 MB)\n",
            "\u001b[2K     \u001b[90m━━━━━━━━━━━━━━━━━━━━━━━━━━━━━━━━━━━━━━━━\u001b[0m \u001b[32m1.5/1.5 MB\u001b[0m \u001b[31m18.5 MB/s\u001b[0m eta \u001b[36m0:00:00\u001b[0m\n",
            "\u001b[?25h  Preparing metadata (setup.py) ... \u001b[?25l\u001b[?25hdone\n",
            "Requirement already satisfied: numpy>=1.18.0 in /usr/local/lib/python3.10/dist-packages (from gym==0.21.0) (1.22.4)\n",
            "Requirement already satisfied: cloudpickle>=1.2.0 in /usr/local/lib/python3.10/dist-packages (from gym==0.21.0) (2.2.1)\n",
            "Building wheels for collected packages: gym\n",
            "  \u001b[1;31merror\u001b[0m: \u001b[1msubprocess-exited-with-error\u001b[0m\n",
            "  \n",
            "  \u001b[31m×\u001b[0m \u001b[32mpython setup.py bdist_wheel\u001b[0m did not run successfully.\n",
            "  \u001b[31m│\u001b[0m exit code: \u001b[1;36m1\u001b[0m\n",
            "  \u001b[31m╰─>\u001b[0m See above for output.\n",
            "  \n",
            "  \u001b[1;35mnote\u001b[0m: This error originates from a subprocess, and is likely not a problem with pip.\n",
            "  Building wheel for gym (setup.py) ... \u001b[?25lerror\n",
            "\u001b[31m  ERROR: Failed building wheel for gym\u001b[0m\u001b[31m\n",
            "\u001b[0m\u001b[?25h  Running setup.py clean for gym\n",
            "Failed to build gym\n",
            "Installing collected packages: gym\n",
            "  Attempting uninstall: gym\n",
            "    Found existing installation: gym 0.25.2\n",
            "    Uninstalling gym-0.25.2:\n",
            "      Successfully uninstalled gym-0.25.2\n",
            "  Running setup.py install for gym ... \u001b[?25l\u001b[?25hdone\n",
            "\u001b[33m  DEPRECATION: gym was installed using the legacy 'setup.py install' method, because a wheel could not be built for it. pip 23.1 will enforce this behaviour change. A possible replacement is to fix the wheel build issue reported above. Discussion can be found at https://github.com/pypa/pip/issues/8368\u001b[0m\u001b[33m\n",
            "\u001b[0mSuccessfully installed gym-0.21.0\n",
            "Looking in indexes: https://pypi.org/simple, https://us-python.pkg.dev/colab-wheels/public/simple/\n",
            "Collecting pyglet==1.5.11\n",
            "  Downloading pyglet-1.5.11-py3-none-any.whl (1.1 MB)\n",
            "\u001b[2K     \u001b[90m━━━━━━━━━━━━━━━━━━━━━━━━━━━━━━━━━━━━━━━━\u001b[0m \u001b[32m1.1/1.1 MB\u001b[0m \u001b[31m22.1 MB/s\u001b[0m eta \u001b[36m0:00:00\u001b[0m\n",
            "\u001b[?25hInstalling collected packages: pyglet\n",
            "Successfully installed pyglet-1.5.11\n",
            "Reading package lists... Done\n",
            "Building dependency tree       \n",
            "Reading state information... Done\n",
            "The following additional packages will be installed:\n",
            "  libfontenc1 libxfont2 libxkbfile1 x11-xkb-utils xfonts-base xfonts-encodings\n",
            "  xfonts-utils xserver-common\n",
            "The following NEW packages will be installed:\n",
            "  libfontenc1 libxfont2 libxkbfile1 x11-xkb-utils xfonts-base xfonts-encodings\n",
            "  xfonts-utils xserver-common xvfb\n",
            "0 upgraded, 9 newly installed, 0 to remove and 24 not upgraded.\n",
            "Need to get 7,697 kB of archives.\n",
            "After this operation, 11.9 MB of additional disk space will be used.\n",
            "Get:1 http://archive.ubuntu.com/ubuntu focal/main amd64 libfontenc1 amd64 1:1.1.4-0ubuntu1 [14.0 kB]\n",
            "Get:2 http://archive.ubuntu.com/ubuntu focal/main amd64 libxfont2 amd64 1:2.0.3-1 [91.7 kB]\n",
            "Get:3 http://archive.ubuntu.com/ubuntu focal/main amd64 libxkbfile1 amd64 1:1.1.0-1 [65.3 kB]\n",
            "Get:4 http://archive.ubuntu.com/ubuntu focal/main amd64 x11-xkb-utils amd64 7.7+5 [158 kB]\n",
            "Get:5 http://archive.ubuntu.com/ubuntu focal/main amd64 xfonts-encodings all 1:1.0.5-0ubuntu1 [573 kB]\n",
            "Get:6 http://archive.ubuntu.com/ubuntu focal/main amd64 xfonts-utils amd64 1:7.7+6 [91.5 kB]\n",
            "Get:7 http://archive.ubuntu.com/ubuntu focal/main amd64 xfonts-base all 1:1.0.5 [5,896 kB]\n",
            "Get:8 http://archive.ubuntu.com/ubuntu focal-updates/main amd64 xserver-common all 2:1.20.13-1ubuntu1~20.04.8 [27.2 kB]\n",
            "Get:9 http://archive.ubuntu.com/ubuntu focal-updates/universe amd64 xvfb amd64 2:1.20.13-1ubuntu1~20.04.8 [780 kB]\n",
            "Fetched 7,697 kB in 1s (8,401 kB/s)\n",
            "Selecting previously unselected package libfontenc1:amd64.\n",
            "(Reading database ... 122518 files and directories currently installed.)\n",
            "Preparing to unpack .../0-libfontenc1_1%3a1.1.4-0ubuntu1_amd64.deb ...\n",
            "Unpacking libfontenc1:amd64 (1:1.1.4-0ubuntu1) ...\n",
            "Selecting previously unselected package libxfont2:amd64.\n",
            "Preparing to unpack .../1-libxfont2_1%3a2.0.3-1_amd64.deb ...\n",
            "Unpacking libxfont2:amd64 (1:2.0.3-1) ...\n",
            "Selecting previously unselected package libxkbfile1:amd64.\n",
            "Preparing to unpack .../2-libxkbfile1_1%3a1.1.0-1_amd64.deb ...\n",
            "Unpacking libxkbfile1:amd64 (1:1.1.0-1) ...\n",
            "Selecting previously unselected package x11-xkb-utils.\n",
            "Preparing to unpack .../3-x11-xkb-utils_7.7+5_amd64.deb ...\n",
            "Unpacking x11-xkb-utils (7.7+5) ...\n",
            "Selecting previously unselected package xfonts-encodings.\n",
            "Preparing to unpack .../4-xfonts-encodings_1%3a1.0.5-0ubuntu1_all.deb ...\n",
            "Unpacking xfonts-encodings (1:1.0.5-0ubuntu1) ...\n",
            "Selecting previously unselected package xfonts-utils.\n",
            "Preparing to unpack .../5-xfonts-utils_1%3a7.7+6_amd64.deb ...\n",
            "Unpacking xfonts-utils (1:7.7+6) ...\n",
            "Selecting previously unselected package xfonts-base.\n",
            "Preparing to unpack .../6-xfonts-base_1%3a1.0.5_all.deb ...\n",
            "Unpacking xfonts-base (1:1.0.5) ...\n",
            "Selecting previously unselected package xserver-common.\n",
            "Preparing to unpack .../7-xserver-common_2%3a1.20.13-1ubuntu1~20.04.8_all.deb ...\n",
            "Unpacking xserver-common (2:1.20.13-1ubuntu1~20.04.8) ...\n",
            "Selecting previously unselected package xvfb.\n",
            "Preparing to unpack .../8-xvfb_2%3a1.20.13-1ubuntu1~20.04.8_amd64.deb ...\n",
            "Unpacking xvfb (2:1.20.13-1ubuntu1~20.04.8) ...\n",
            "Setting up libfontenc1:amd64 (1:1.1.4-0ubuntu1) ...\n",
            "Setting up xfonts-encodings (1:1.0.5-0ubuntu1) ...\n",
            "Setting up libxkbfile1:amd64 (1:1.1.0-1) ...\n",
            "Setting up libxfont2:amd64 (1:2.0.3-1) ...\n",
            "Setting up x11-xkb-utils (7.7+5) ...\n",
            "Setting up xfonts-utils (1:7.7+6) ...\n",
            "Setting up xfonts-base (1:1.0.5) ...\n",
            "Setting up xserver-common (2:1.20.13-1ubuntu1~20.04.8) ...\n",
            "Setting up xvfb (2:1.20.13-1ubuntu1~20.04.8) ...\n",
            "Processing triggers for man-db (2.9.1-1) ...\n",
            "Processing triggers for fontconfig (2.13.1-2ubuntu3) ...\n",
            "Processing triggers for libc-bin (2.31-0ubuntu9.9) ...\n",
            "Looking in indexes: https://pypi.org/simple, https://us-python.pkg.dev/colab-wheels/public/simple/\n",
            "Collecting pyvirtualdisplay\n",
            "  Downloading PyVirtualDisplay-3.0-py3-none-any.whl (15 kB)\n",
            "Installing collected packages: pyvirtualdisplay\n",
            "Successfully installed pyvirtualdisplay-3.0\n",
            "Reading package lists... Done\n",
            "Building dependency tree       \n",
            "Reading state information... Done\n",
            "The following additional packages will be installed:\n",
            "  freeglut3 libpython2-stdlib python2 python2-minimal\n",
            "Suggested packages:\n",
            "  python-tk python-numpy libgle3 python2-doc\n",
            "The following NEW packages will be installed:\n",
            "  freeglut3 libpython2-stdlib python-opengl python2 python2-minimal\n",
            "0 upgraded, 5 newly installed, 0 to remove and 24 not upgraded.\n",
            "Need to get 621 kB of archives.\n",
            "After this operation, 6,059 kB of additional disk space will be used.\n",
            "Get:1 http://archive.ubuntu.com/ubuntu focal/universe amd64 python2-minimal amd64 2.7.17-2ubuntu4 [27.5 kB]\n",
            "Get:2 http://archive.ubuntu.com/ubuntu focal/universe amd64 libpython2-stdlib amd64 2.7.17-2ubuntu4 [7,072 B]\n",
            "Get:3 http://archive.ubuntu.com/ubuntu focal/universe amd64 python2 amd64 2.7.17-2ubuntu4 [26.5 kB]\n",
            "Get:4 http://archive.ubuntu.com/ubuntu focal/universe amd64 freeglut3 amd64 2.8.1-3 [73.6 kB]\n",
            "Get:5 http://archive.ubuntu.com/ubuntu focal/universe amd64 python-opengl all 3.1.0+dfsg-2build1 [486 kB]\n",
            "Fetched 621 kB in 1s (1,077 kB/s)\n",
            "Selecting previously unselected package python2-minimal.\n",
            "(Reading database ... 123081 files and directories currently installed.)\n",
            "Preparing to unpack .../python2-minimal_2.7.17-2ubuntu4_amd64.deb ...\n",
            "Unpacking python2-minimal (2.7.17-2ubuntu4) ...\n",
            "Selecting previously unselected package libpython2-stdlib:amd64.\n",
            "Preparing to unpack .../libpython2-stdlib_2.7.17-2ubuntu4_amd64.deb ...\n",
            "Unpacking libpython2-stdlib:amd64 (2.7.17-2ubuntu4) ...\n",
            "Setting up python2-minimal (2.7.17-2ubuntu4) ...\n",
            "Selecting previously unselected package python2.\n",
            "(Reading database ... 123110 files and directories currently installed.)\n",
            "Preparing to unpack .../python2_2.7.17-2ubuntu4_amd64.deb ...\n",
            "Unpacking python2 (2.7.17-2ubuntu4) ...\n",
            "Selecting previously unselected package freeglut3:amd64.\n",
            "Preparing to unpack .../freeglut3_2.8.1-3_amd64.deb ...\n",
            "Unpacking freeglut3:amd64 (2.8.1-3) ...\n",
            "Selecting previously unselected package python-opengl.\n",
            "Preparing to unpack .../python-opengl_3.1.0+dfsg-2build1_all.deb ...\n",
            "Unpacking python-opengl (3.1.0+dfsg-2build1) ...\n",
            "Setting up freeglut3:amd64 (2.8.1-3) ...\n",
            "Setting up libpython2-stdlib:amd64 (2.7.17-2ubuntu4) ...\n",
            "Setting up python2 (2.7.17-2ubuntu4) ...\n",
            "Setting up python-opengl (3.1.0+dfsg-2build1) ...\n",
            "Processing triggers for man-db (2.9.1-1) ...\n",
            "Processing triggers for libc-bin (2.31-0ubuntu9.9) ...\n"
          ]
        }
      ]
    },
    {
      "cell_type": "code",
      "execution_count": 2,
      "metadata": {
        "cell_id": "a21811d38df94892b5e8d81161fbfde6",
        "deepnote_cell_type": "code",
        "id": "-iqHZd9nvgia"
      },
      "outputs": [],
      "source": [
        "import sys, os\n",
        "import numpy as np\n",
        "import matplotlib.pyplot as plt\n",
        "%matplotlib inline"
      ]
    },
    {
      "cell_type": "code",
      "source": [
        "import gym\n",
        "from gym.core import Wrapper\n",
        "from pickle import dumps, loads\n",
        "from collections import namedtuple\n"
      ],
      "metadata": {
        "id": "2jmeKJwz_TAf"
      },
      "execution_count": 3,
      "outputs": []
    },
    {
      "cell_type": "markdown",
      "metadata": {
        "cell_id": "e8326f43f33a4416a654d417809f349d",
        "deepnote_cell_type": "markdown",
        "id": "rodcBsk6vgic"
      },
      "source": [
        "We first need to make a wrapper for Gym environments to allow saving and loading game states to facilitate backtracking."
      ]
    },
    {
      "cell_type": "code",
      "execution_count": 4,
      "metadata": {
        "cell_id": "77e5f887a3844683a8cd454f573bf8d8",
        "deepnote_cell_type": "code",
        "id": "xdQGN3hhvgid"
      },
      "outputs": [],
      "source": [
        "ActionResult = namedtuple(\n",
        "    \"action_result\", (\"snapshot\", \"observation\", \"reward\", \"is_done\", \"info\"))\n",
        "\n",
        "\n",
        "class WithSnapshots(Wrapper):\n",
        "    # Creates a wrapper that supports saving and loading environemnt states.\n",
        "    # Required for planning algorithms.\n",
        "\n",
        "\n",
        "    def get_snapshot(self, render=False):\n",
        "        # returns environment state that can be loaded with load_snapshot.\n",
        "        \n",
        "        \n",
        "        if render:\n",
        "            self.render()  \n",
        "            self.close()\n",
        "            \n",
        "        # if self.unwrapped.viewer is not None:\n",
        "        #     self.unwrapped.viewer.close()\n",
        "        #     self.unwrapped.viewer = None\n",
        "        return dumps(self.env)\n",
        "    \n",
        "           \n",
        "    def load_snapshot(self, snapshot, render=False):\n",
        "        # loads snapshot as current env state.\n",
        "        \n",
        "        assert not hasattr(self, \"_monitor\") or hasattr(\n",
        "            self.env, \"_monitor\"), \"can't backtrack while recording\"\n",
        "\n",
        "        if render:\n",
        "            self.render()  \n",
        "            self.close()\n",
        "        self.env = loads(snapshot)\n",
        "        \n",
        "\n",
        "    def get_result(self, snapshot, action):\n",
        "        # Breturns next snapshot and everything that env.step would have returned.\n",
        "        \n",
        "        self.load_snapshot(snapshot, render=False)\n",
        "        next_observation, reward, is_done, info = self.step(action)\n",
        "        next_snapshot = self.get_snapshot()\n",
        "        return ActionResult(next_snapshot, next_observation, reward, is_done, info)"
      ]
    },
    {
      "cell_type": "markdown",
      "metadata": {
        "cell_id": "6e73f4a5cf6d47c4aa5f559f6a04bf8f",
        "deepnote_cell_type": "markdown",
        "id": "xH640XHavgif"
      },
      "source": [
        "### Try out snapshots"
      ]
    },
    {
      "cell_type": "code",
      "execution_count": 5,
      "metadata": {
        "cell_id": "f1319deede264069ac29749fc06d36ca",
        "deepnote_cell_type": "code",
        "id": "7LJhDzYwvgif"
      },
      "outputs": [],
      "source": [
        "# make env\n",
        "env = WithSnapshots(gym.make(\"CartPole-v0\"))\n",
        "env.reset()\n",
        "\n",
        "n_actions = env.action_space.n"
      ]
    },
    {
      "cell_type": "code",
      "execution_count": 6,
      "metadata": {
        "cell_id": "a92ac001af624e07978c6475e66e558f",
        "deepnote_cell_type": "code",
        "colab": {
          "base_uri": "https://localhost:8080/",
          "height": 413
        },
        "id": "KxFmrbulvgig",
        "outputId": "cc559237-a533-419c-fa99-b283ca3a78d6"
      },
      "outputs": [
        {
          "output_type": "stream",
          "name": "stdout",
          "text": [
            "initial_state:\n"
          ]
        },
        {
          "output_type": "display_data",
          "data": {
            "text/plain": [
              "<Figure size 640x480 with 1 Axes>"
            ],
            "image/png": "[encoded data removed]"
          },
          "metadata": {}
        }
      ],
      "source": [
        "print(\"initial_state:\")\n",
        "plt.imshow(env.render('rgb_array'))\n",
        "env.close()\n",
        "\n",
        "# create first snapshot\n",
        "snap0 = env.get_snapshot()"
      ]
    },
    {
      "cell_type": "markdown",
      "source": [],
      "metadata": {
        "id": "zuF_bexW8cy0"
      }
    },
    {
      "cell_type": "code",
      "execution_count": 7,
      "metadata": {
        "cell_id": "a45ce51b5a874edbb459aa447be8b732",
        "deepnote_cell_type": "code",
        "id": "A-VBHPg0vgih",
        "colab": {
          "base_uri": "https://localhost:8080/",
          "height": 431
        },
        "outputId": "db6c201f-ebd8-424f-e3c6-f9006afd8700"
      },
      "outputs": [
        {
          "output_type": "stream",
          "name": "stdout",
          "text": [
            "Whoops! We died!\n",
            "final state:\n"
          ]
        },
        {
          "output_type": "display_data",
          "data": {
            "text/plain": [
              "<Figure size 640x480 with 1 Axes>"
            ],
            "image/png": "[encoded data removed]"
          },
          "metadata": {}
        }
      ],
      "source": [
        "# play without making snapshots (faster)\n",
        "while True:\n",
        "    is_done = env.step(env.action_space.sample())[2]\n",
        "    if is_done:\n",
        "        print(\"Whoops! We died!\")\n",
        "        break\n",
        "\n",
        "print(\"final state:\")\n",
        "plt.imshow(env.render('rgb_array'))\n",
        "env.close()"
      ]
    },
    {
      "cell_type": "code",
      "execution_count": 8,
      "metadata": {
        "cell_id": "b0c2fd31817149809f3116643a768ece",
        "deepnote_cell_type": "code",
        "id": "YWZ9Yfi3vgii",
        "colab": {
          "base_uri": "https://localhost:8080/",
          "height": 448
        },
        "outputId": "cff3d9c6-b631-44d8-fc68-96be8ebb5aaa"
      },
      "outputs": [
        {
          "output_type": "stream",
          "name": "stdout",
          "text": [
            "\n",
            "\n",
            "After loading snapshot\n"
          ]
        },
        {
          "output_type": "display_data",
          "data": {
            "text/plain": [
              "<Figure size 640x480 with 1 Axes>"
            ],
            "image/png": "[encoded data removed]"
          },
          "metadata": {}
        }
      ],
      "source": [
        "# reload initial state\n",
        "env.load_snapshot(snap0)\n",
        "\n",
        "print(\"\\n\\nAfter loading snapshot\")\n",
        "plt.imshow(env.render('rgb_array'))\n",
        "env.close()"
      ]
    },
    {
      "cell_type": "code",
      "execution_count": 9,
      "metadata": {
        "cell_id": "3f287e0d08084287b8f029d5c307fb7b",
        "deepnote_cell_type": "code",
        "id": "U7LTkBYpvgij"
      },
      "outputs": [],
      "source": [
        "# get outcome (snapshot, observation, reward, is_done, info)\n",
        "res = env.get_result(snap0, env.action_space.sample())\n",
        "\n",
        "snap1, observation, reward = res[:3]\n",
        "\n",
        "# second step\n",
        "res2 = env.get_result(snap1, env.action_space.sample())"
      ]
    },
    {
      "cell_type": "markdown",
      "metadata": {
        "cell_id": "a2a09330874e49a6903eefb4598b2e34",
        "deepnote_cell_type": "markdown",
        "id": "p2jgey2rvgij"
      },
      "source": [
        "# MCTS: Monte-Carlo Tree Search\n",
        "\n",
        "\n",
        "Implementing the `Node` class - a simple class that acts like MCTS node and supports some of the MCTS algorithm steps.\n",
        "\n",
        "This MCTS implementation makes some assumptions about the environment, you can find those _in the notes section at the end of the notebook_."
      ]
    },
    {
      "cell_type": "code",
      "execution_count": 10,
      "metadata": {
        "cell_id": "6c22f51b55214ac1b9250185285a5d6e",
        "deepnote_cell_type": "code",
        "id": "tOha2ur5vgik"
      },
      "outputs": [],
      "source": [
        "assert isinstance(env, WithSnapshots)"
      ]
    },
    {
      "cell_type": "code",
      "execution_count": 11,
      "metadata": {
        "cell_id": "15fc696542104d99b0716137dc3ae654",
        "deepnote_cell_type": "code",
        "id": "1nQYnCOFvgik"
      },
      "outputs": [],
      "source": [
        "class Node:\n",
        "    # a tree node for MCTS.\n",
        "    \n",
        "    parent = None  # parent Node\n",
        "    qvalue_sum = 0.  # sum of Q-values from all visits \n",
        "    times_visited = 0  # counter of visits \n",
        "\n",
        "    \n",
        "    def __init__(self, parent, action):\n",
        "        # Creates and empty node with no children.\n",
        "        \n",
        "        self.parent = parent\n",
        "        self.action = action\n",
        "        self.children = set()  # set of child nodes\n",
        "\n",
        "        # get action outcome and save it\n",
        "        res = env.get_result(parent.snapshot, action)\n",
        "        self.snapshot, self.observation, self.immediate_reward, self.is_done, _ = res\n",
        "        \n",
        "\n",
        "        \n",
        "    def is_leaf(self):\n",
        "        return len(self.children) == 0\n",
        "    \n",
        "    \n",
        "\n",
        "    def is_root(self):\n",
        "        return self.parent is None\n",
        "    \n",
        "    \n",
        "\n",
        "    def get_qvalue_estimate(self):\n",
        "        return self.qvalue_sum / self.times_visited if self.times_visited != 0 else 0\n",
        "    \n",
        "\n",
        "    \n",
        "    def ucb_score(self, scale=10, max_value=1e100):\n",
        "        # param scale: Multiplies upper bound by that. From Hoeffding inequality, assumes reward range to be [0, scale].\n",
        "        # param max_value: a value that represents infinity (for unvisited nodes).\n",
        "\n",
        "        if self.times_visited == 0:\n",
        "            return max_value\n",
        "        return self.qvalue_sum + scale * np.sqrt(2*np.log(self.parent.times_visited)/self.times_visited)\n",
        "\n",
        "        # ==================================== Your Code (Begin) ==================================\n",
        "        \n",
        "        # calculate and return UCB-1 score\n",
        "        \n",
        "        # ==================================== Your Code (End) ====================================\n",
        "\n",
        "        \n",
        "        \n",
        "        \n",
        "    \n",
        "    def select_best_leaf(self):\n",
        "        max_ucb = -10000\n",
        "        chosen_child = None\n",
        "        for child in self.children:\n",
        "            if child.ucb_score()>max_ucb:\n",
        "                chosen_child = child\n",
        "                max_ucb = child.ucb_score()\n",
        "        if chosen_child.is_leaf():\n",
        "            return chosen_child \n",
        "        else:\n",
        "            return chosen_child.select_best_leaf()        \n",
        "        # ==================================== Your Code (Begin) ==================================\n",
        "        \n",
        "        # return the leaf with the highest priority to expand.\n",
        "        # hint: recursively pick nodes with the best UCB-1 score until it reaches a leaf.\n",
        "        \n",
        "        # ==================================== Your Code (End) ====================================\n",
        "\n",
        "        \n",
        "        \n",
        "        \n",
        "\n",
        "    def expand(self):\n",
        "        # expands the current node by creating all possible child nodes.\n",
        "        # returns one of those children.\n",
        "        \n",
        "        assert not self.is_done, \"can't expand from terminal state\"\n",
        "\n",
        "        for action in range(n_actions):\n",
        "            self.children.add(Node(self, action))\n",
        "\n",
        "        return self.select_best_leaf()\n",
        "    \n",
        "    \n",
        "\n",
        "    def rollout(self, t_max=10**4):\n",
        "        \n",
        "        # set env into the appropriate state\n",
        "        env.load_snapshot(self.snapshot)\n",
        "        obs = self.observation\n",
        "        is_done = self.is_done\n",
        "        if is_done:\n",
        "            return 0\n",
        "        i = 0\n",
        "        rollout_reward = 0\n",
        "        while i<t_max:\n",
        "            random_action = env.action_space.sample()\n",
        "            new_obs, reward, done, info = env.step(random_action)\n",
        "            rollout_reward += reward\n",
        "            if done:\n",
        "                break\n",
        "            i += 1\n",
        "        return rollout_reward\n",
        "\n",
        "        # ==================================== Your Code (Begin) ==================================\n",
        "        \n",
        "        \n",
        "        # Play the game from this state to the end (done) or for t_max steps.\n",
        "        # On each step, pick action at random (hint: env.action_space.sample()).\n",
        "        \n",
        "        # Compute sum of rewards from current state till \n",
        "        # Note 1: use env.action_space.sample() for random action\n",
        "        # Note 2: if node is terminal (self.is_done is True), just return 0\n",
        "        \n",
        "        \n",
        "        # return rollout_reward  \n",
        "\n",
        "        \n",
        "        # ==================================== Your Code (End) ====================================\n",
        "\n",
        "\n",
        "        \n",
        "        \n",
        "        \n",
        "        \n",
        "    def propagate(self, child_qvalue):\n",
        "        # Uses child Q-value (sum of rewards) to update parents recursively.\n",
        "        \n",
        "        # compute node Q-value\n",
        "        my_qvalue = self.immediate_reward + child_qvalue\n",
        "\n",
        "        # update qvalue_sum and times_visited\n",
        "        self.qvalue_sum += my_qvalue\n",
        "        self.times_visited += 1\n",
        "\n",
        "        # propagate upwards\n",
        "        if not self.is_root():\n",
        "            self.parent.propagate(my_qvalue)\n",
        "\n",
        "            \n",
        "            \n",
        "    def safe_delete(self):\n",
        "        # safe delete to prevent memory leak in some python versions \n",
        "        del self.parent\n",
        "        for child in self.children:\n",
        "            child.safe_delete()\n",
        "            del child"
      ]
    },
    {
      "cell_type": "code",
      "execution_count": 12,
      "metadata": {
        "cell_id": "dff86f659a0641e7b0256486de58734f",
        "deepnote_cell_type": "code",
        "id": "_BjNiONtvgil"
      },
      "outputs": [],
      "source": [
        "class Root(Node):\n",
        "    def __init__(self, snapshot, observation):\n",
        "        # creates special node that acts like tree root\n",
        "        \n",
        "        self.parent = self.action = None\n",
        "        self.children = set()  # set of child nodes\n",
        "\n",
        "        # root: load snapshot and observation\n",
        "        self.snapshot = snapshot\n",
        "        self.observation = observation\n",
        "        self.immediate_reward = 0\n",
        "        self.is_done = False\n",
        "\n",
        "    @staticmethod\n",
        "    def from_node(node):\n",
        "        # initializes node as root\n",
        "        root = Root(node.snapshot, node.observation)\n",
        "        # copy data\n",
        "        copied_fields = [\"qvalue_sum\", \"times_visited\", \"children\", \"is_done\"]\n",
        "        for field in copied_fields:\n",
        "            setattr(root, field, getattr(node, field))\n",
        "        return root"
      ]
    },
    {
      "cell_type": "markdown",
      "metadata": {
        "cell_id": "27de95c593e84485a84fc4881c32b77d",
        "deepnote_cell_type": "markdown",
        "id": "1iVjBFucvgim"
      },
      "source": [
        "## Main MCTS Loop\n"
      ]
    },
    {
      "cell_type": "code",
      "execution_count": 13,
      "metadata": {
        "cell_id": "7d9cc3774eb2440a8eef193a66540218",
        "deepnote_cell_type": "code",
        "id": "EZY6DJ_8vgim"
      },
      "outputs": [],
      "source": [
        "def plan_mcts(root, n_iters=10):\n",
        "    root.expand()\n",
        "    \n",
        "    # build tree with monte-carlo tree search for n_iters iterations\n",
        "    for i in range(n_iters):\n",
        "        node = root.select_best_leaf()\n",
        "        if node.is_done:\n",
        "            node.propagate(node.immediate_reward)\n",
        "        else:\n",
        "            node.expand()\n",
        "            reward = node.rollout()\n",
        "            node.propagate(reward)\n",
        "\n",
        "    # ==================================== Your Code (Begin) ==================================\n",
        "    \n",
        "    # Hint: for n_iters: select best leaf, expand it, perform a rollout from it, propagate the results upwards.\n",
        "    # Note: don't forget to check the is_done condition in the loop\n",
        "    \n",
        "    # ==================================== Your Code (End) ===================================="
      ]
    },
    {
      "cell_type": "markdown",
      "metadata": {
        "cell_id": "efd67dee330149acbc9b6836fe62e120",
        "deepnote_cell_type": "markdown",
        "id": "xoLqcXkZvgim"
      },
      "source": [
        "## Plan and execute\n",
        "\n",
        "Here we use our MCTS implementation to find the optimal policy."
      ]
    },
    {
      "cell_type": "code",
      "source": [
        "import IPython\n",
        "import imageio\n",
        "import base64\n",
        "def embed_mp4(filename):\n",
        "  \n",
        "    video = open(filename,'rb').read()\n",
        "    b64 = base64.b64encode(video)\n",
        "    tag = '''\n",
        "    <video width=\"640\" height=\"480\" controls>\n",
        "    <source src=\"data:video/mp4;base64,{0}\" type=\"video/mp4\">\n",
        "    Your browser does not support the video tag.\n",
        "    </video>'''.format(b64.decode())\n",
        "    \n",
        "    return IPython.display.HTML(tag)\n",
        "\n",
        "def create_video(frames, filename='output'):\n",
        "  \n",
        "    filename = filename + \".mp4\"\n",
        "    fps  = 30\n",
        "    with imageio.get_writer(filename, fps=fps) as video:\n",
        "        for frame in frames:\n",
        "            video.append_data(frame)\n",
        "    return embed_mp4(filename)"
      ],
      "metadata": {
        "id": "Z8TtoEPIkUCB"
      },
      "execution_count": 17,
      "outputs": []
    },
    {
      "cell_type": "code",
      "execution_count": 18,
      "metadata": {
        "cell_id": "2e68ead807ee43bbbfa741e9ecfc32e7",
        "deepnote_cell_type": "code",
        "id": "yBWPQ1WXvgin"
      },
      "outputs": [],
      "source": [
        "env = WithSnapshots(gym.make(\"CartPole-v0\"))\n",
        "root_observation = env.reset()\n",
        "root_snapshot = env.get_snapshot()\n",
        "root = Root(root_snapshot, root_observation)"
      ]
    },
    {
      "cell_type": "code",
      "execution_count": 19,
      "metadata": {
        "cell_id": "2243965714ed4d7caeea7a9774be577f",
        "deepnote_cell_type": "code",
        "id": "Hjn94wyEvgin"
      },
      "outputs": [],
      "source": [
        "# plan from root:\n",
        "plan_mcts(root, n_iters=1000)"
      ]
    },
    {
      "cell_type": "code",
      "execution_count": 20,
      "metadata": {
        "cell_id": "0b68d67912554bc3ba9a1ef4ce3a9b01",
        "deepnote_cell_type": "code",
        "id": "Z2LaRhFovgin",
        "colab": {
          "base_uri": "https://localhost:8080/",
          "height": 952
        },
        "outputId": "fcc089d9-2fb6-4cfa-d094-1c5fb2dcb659"
      },
      "outputs": [
        {
          "output_type": "display_data",
          "data": {
            "text/plain": [
              "<Figure size 640x480 with 1 Axes>"
            ],
            "image/png": "[encoded data removed]"
          },
          "metadata": {}
        },
        {
          "output_type": "stream",
          "name": "stdout",
          "text": [
            "Finished with reward =  200.0\n"
          ]
        },
        {
          "output_type": "stream",
          "name": "stderr",
          "text": [
            "WARNING:imageio_ffmpeg:IMAGEIO FFMPEG_WRITER WARNING: input image is not divisible by macro_block_size=16, resizing from (600, 400) to (608, 400) to ensure video compatibility with most codecs and players. To prevent resizing, make your input image divisible by the macro_block_size or set the macro_block_size to 1 (risking incompatibility).\n"
          ]
        },
        {
          "output_type": "execute_result",
          "data": {
            "text/plain": [
              "<IPython.core.display.HTML object>"
            ],
            "text/html": [
              "\n",
              "    <video width=\"640\" height=\"480\" controls>\n",
              "    <source src=\"data:video/mp4;base64,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\" type=\"video/mp4\">\n",
              "    Your browser does not support the video tag.\n",
              "    </video>"
            ]
          },
          "metadata": {},
          "execution_count": 20
        }
      ],
      "source": [
        "from IPython.display import clear_output\n",
        "from itertools import count\n",
        "from gym.wrappers import Monitor\n",
        "\n",
        "total_reward = 0  # sum of rewards\n",
        "test_env = loads(root_snapshot)  # env used to show progress\n",
        "frames = []\n",
        "for i in count():\n",
        "    max_mean_val = -100\n",
        "    best_child = None\n",
        "    for child in root.children:\n",
        "        if child.get_qvalue_estimate()> max_mean_val:\n",
        "            max_mean_val = child.get_qvalue_estimate()\n",
        "            best_child = child\n",
        "    # ==================================== Your Code (Begin) ==================================\n",
        "    \n",
        "    # best_child = <select child with the highest mean reward>\n",
        "        \n",
        "    # ==================================== Your Code (End) ====================================\n",
        "\n",
        "    # take action\n",
        "    s, r, done, _ = test_env.step(best_child.action)\n",
        "\n",
        "    # show image\n",
        "    clear_output(True)\n",
        "    plt.title(\"step %i\" % i)\n",
        "    rendered = test_env.render('rgb_array')\n",
        "    frames.append(rendered)\n",
        "    plt.imshow(rendered)\n",
        "    plt.show()\n",
        "\n",
        "    total_reward += r\n",
        "    if done:\n",
        "        print(\"Finished with reward = \", total_reward)\n",
        "        break\n",
        "\n",
        "    # discard unrealized part of the tree (because not every child matters :()\n",
        "    for child in root.children:\n",
        "        if child != best_child:\n",
        "            child.safe_delete()\n",
        "\n",
        "    # declare best child a new root\n",
        "    root = Root.from_node(best_child)\n",
        "\n",
        "    assert not root.is_leaf(), \\\n",
        "        \"We ran out of tree! Need more planning! Try growing the tree right inside the loop.\"\n",
        "    plan_mcts(root,n_iters=100)\n",
        "create_video(frames)"
      ]
    },
    {
      "cell_type": "markdown",
      "metadata": {
        "cell_id": "6842b82f0bfb4652a79207c63049ffab",
        "deepnote_cell_type": "markdown",
        "id": "AE11lEWRvgio"
      },
      "source": [
        "## Notes\n",
        "\n",
        "\n",
        "#### Assumptions\n",
        "\n",
        "The full list of assumptions is:\n",
        "\n",
        "* __Finite number of actions__: we enumerate all actions in `expand`.\n",
        "* __Episodic (finite) MDP__: while technically it works for infinite MDPs, we perform a rollout for $10^4$ steps. If you are knowingly infinite, please adjust `t_max` to something more reasonable.\n",
        "* __Deterministic MDP__: `Node` represents the single outcome of taking `self.action` in `self.parent`, and does not support the situation where taking an action in a state may lead to different rewards and next states.\n",
        "* __No discounted rewards__: we assume $\\gamma=1$. If that isn't the case, you only need to change two lines in `rollout()` and use `my_qvalue = self.immediate_reward + gamma * child_qvalue` for `propagate()`.\n",
        "* __pickleable env__: won't work if e.g. your env is connected to a web-browser surfing the internet. For custom envs, you may need to modify get_snapshot/load_snapshot from `WithSnapshots`.\n",
        "\n",
        "#### On `get_best_leaf` and `expand` functions\n",
        "\n",
        "This MCTS implementation only selects leaf nodes for expansion.\n",
        "This doesn't break things down because `expand` adds all possible actions. Hence, all non-leaf nodes are by design fully expanded and shouldn't be selected.\n",
        "\n",
        "If you want to only add a few random action on each expand, you will also have to modify `get_best_leaf` to consider returning non-leafs.\n",
        "\n",
        "#### Rollout policy\n",
        "\n",
        "We use a simple uniform policy for rollouts. This introduces a negative bias to good situations that can be messed up completely with random bad action. As a simple example, if you tend to rollout with uniform policy, you better don't use sharp knives and walk near cliffs.\n",
        "\n",
        "You can improve that by integrating a reinforcement _learning_ algorithm with a computationally light agent. You can even train this agent on optimal policy found by the tree search."
      ]
    }
  ],
  "metadata": {
    "deepnote": {},
    "deepnote_execution_queue": [],
    "deepnote_notebook_id": "ccfd687329c94728b8a39ce470d0583d",
    "kernelspec": {
      "display_name": "Python 3",
      "language": "python",
      "name": "python3"
    },
    "language_info": {
      "codemirror_mode": {
        "name": "ipython",
        "version": 3
      },
      "file_extension": ".py",
      "mimetype": "text/x-python",
      "name": "python",
      "nbconvert_exporter": "python",
      "pygments_lexer": "ipython3",
      "version": "3.8.3"
    },
    "colab": {
      "provenance": [],
      "gpuType": "T4"
    },
    "gpuClass": "standard"
  },
  "nbformat": 4,
  "nbformat_minor": 0
}